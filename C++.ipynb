{
  "nbformat": 4,
  "nbformat_minor": 0,
  "metadata": {
    "colab": {
      "provenance": [],
      "authorship_tag": "ABX9TyO/sGz+HXa5mwz2VCXSOC5g",
      "include_colab_link": true
    },
    "kernelspec": {
      "name": "python3",
      "display_name": "Python 3"
    },
    "language_info": {
      "name": "python"
    }
  },
  "cells": [
    {
      "cell_type": "markdown",
      "metadata": {
        "id": "view-in-github",
        "colab_type": "text"
      },
      "source": [
        "<a href=\"https://colab.research.google.com/github/fanta0317/0724/blob/main/C%2B%2B.ipynb\" target=\"_parent\"><img src=\"https://colab.research.google.com/assets/colab-badge.svg\" alt=\"Open In Colab\"/></a>"
      ]
    },
    {
      "cell_type": "markdown",
      "source": [
        "#2024/01/30~2024/02/6\n",
        "#**c++**"
      ],
      "metadata": {
        "id": "XCGu0komWakS"
      }
    },
    {
      "cell_type": "markdown",
      "source": [
        "寒假解題狀況表單\n",
        "https://docs.google.com/forms/u/1/d/e/1FAIpQLSd_fnGhNzKUPzDFYjjurThRxIm52rTamHgo9fIWkY1NcF3X5A/formResponse"
      ],
      "metadata": {
        "id": "C7a6-64OjHXs"
      }
    },
    {
      "cell_type": "code",
      "source": [
        "#include <bits/stdc++.h>\n",
        "using namespace std;\n",
        "int main(){\n",
        "\treturn 0;\n",
        "}\n"
      ],
      "metadata": {
        "id": "KwsTWJ5HW1F_"
      },
      "execution_count": null,
      "outputs": []
    },
    {
      "cell_type": "markdown",
      "source": [
        "\n",
        "#完成\n",
        "遞迴----相加"
      ],
      "metadata": {
        "id": "Prir5xF7Wggx"
      }
    },
    {
      "cell_type": "code",
      "source": [
        "#include <bits/stdc++.h>\n",
        "using namespace std;\n",
        "int f1(int x){\n",
        "\tif(x==1){\n",
        "\t\treturn 1;\n",
        "\t}\n",
        "\treturn f1(x-1)+x;\n",
        "\n",
        "}\n",
        "int main(){\n",
        "\tint a;\n",
        "\n",
        "\tcin>>a;\n",
        "\tcout<<f1(a);\n",
        "\n",
        "\n",
        "}"
      ],
      "metadata": {
        "colab": {
          "base_uri": "https://localhost:8080/",
          "height": 144
        },
        "id": "RsG_URRtWd0A",
        "outputId": "3386042b-7d67-4439-e0aa-43e779092e79"
      },
      "execution_count": null,
      "outputs": [
        {
          "output_type": "error",
          "ename": "SyntaxError",
          "evalue": "invalid syntax (<ipython-input-1-d9b9a7130f0d>, line 2)",
          "traceback": [
            "\u001b[0;36m  File \u001b[0;32m\"<ipython-input-1-d9b9a7130f0d>\"\u001b[0;36m, line \u001b[0;32m2\u001b[0m\n\u001b[0;31m    using namespace std;\u001b[0m\n\u001b[0m          ^\u001b[0m\n\u001b[0;31mSyntaxError\u001b[0m\u001b[0;31m:\u001b[0m invalid syntax\n"
          ]
        }
      ]
    },
    {
      "cell_type": "markdown",
      "source": [
        "#完成\n",
        "排序\n",
        "https://zerojudge.tw/ShowProblem?problemid=a104"
      ],
      "metadata": {
        "id": "2DqfundXW8Pw"
      }
    },
    {
      "cell_type": "code",
      "source": [
        "#錯誤\n",
        "#include <bits/stdc++.h>\n",
        "using namespace std;\n",
        "int main(){\n",
        "\tint min=999999999999999999999999,k[1005]={0},i,a,j,wait1,r[1005]={0},count=0,l,lowest=-1;\n",
        "\twhile(cin>>a){\n",
        "\t\tfor (i=0;i<a;i++){\n",
        "\t\t\tcin>>k[i];\n",
        "\t\t}\n",
        "\t\tfor (j=0;j<a;j++){\n",
        "\t\t\tif(k[j]<min and k[j]>=lowest){\n",
        "\t\t\t\tmin=k[j];\n",
        "\t\t\t\tr[count]=min;\n",
        "\t\t\t\tcount=count+1;\n",
        "\t\t\t\tlowest=min;\n",
        "\t\t\t\tmin=999999999999999999999999;\n",
        "\n",
        "\t\t\t}\n",
        "\t\t}\n",
        "\t\tfor (l=0;l<a;l++){\n",
        "\t\t\tcout<<r[l];\n",
        "\n",
        "\t}\n",
        "}\n",
        "\n",
        "\n",
        "\n",
        "\treturn 0;\n",
        "}\n"
      ],
      "metadata": {
        "id": "TvLHohtEW8bQ"
      },
      "execution_count": null,
      "outputs": []
    },
    {
      "cell_type": "markdown",
      "source": [
        "成功"
      ],
      "metadata": {
        "id": "jx54kb9FZwAo"
      }
    },
    {
      "cell_type": "code",
      "source": [
        "#include <bits/stdc++.h>\n",
        "using namespace std;\n",
        "int main(){\n",
        "\tint min=999999999999999999999999,k[1005]={0},i,a,j,wait1,r[1005]={0},count=0,l,lowest=-1;\n",
        "\twhile(cin>>a){\n",
        "\t\tfor (i=0;i<a;i++){\n",
        "\t\t\tcin>>k[i];\n",
        "\t\t}\n",
        "\t\tsort(k,k+a);\n",
        "\n",
        "\t\tfor (j=0;j<a;j++){\n",
        "\t\t\tcout<<k[j]<<\" \";\n",
        "\n",
        "\t\t}\n",
        "\t\tcout<<endl;\n",
        "}\n",
        "\n",
        "\n",
        "\n",
        "\treturn 0;\n",
        "}\n"
      ],
      "metadata": {
        "id": "eBQqm8i_ZviI"
      },
      "execution_count": null,
      "outputs": []
    },
    {
      "cell_type": "markdown",
      "source": [
        "#未完成\n",
        "Max\n",
        "https://zerojudge.tw/ShowProblem?problemid=c435"
      ],
      "metadata": {
        "id": "8aSQEpJKXBSn"
      }
    },
    {
      "cell_type": "markdown",
      "source": [
        "**錯誤**"
      ],
      "metadata": {
        "id": "Oi-Q6m_dfFjJ"
      }
    },
    {
      "cell_type": "code",
      "source": [
        "#include <bits/stdc++.h>\n",
        "using namespace std;\n",
        "int main(){\n",
        "\tint a[100005],n,i,j,k,ans;\n",
        "\tcin>>n;\n",
        "\tfor (k=0;k<n;k++){\n",
        "\t\tcin>>a[k];\n",
        "\t}\n",
        "\tint max=a[0];\n",
        "\tfor (i=0;i<n;i++){\n",
        "\t\tif (a[i] > max){\n",
        "\t\t\tmax = a[i];\n",
        "\t\t}\n",
        "\t}\n",
        "\tint min=a[0];\n",
        "\tfor (j=0;j<n;j++){\n",
        "\t\tif (a[i] < min){\n",
        "\t\t\tmin = a[j];\n",
        "\t\t}\n",
        "\n",
        "\t}\n",
        "\tans=max-min;\n",
        "\tcout<<ans;\n",
        "\treturn 0;\n",
        "}\n"
      ],
      "metadata": {
        "id": "VEtZTzruZ7WJ"
      },
      "execution_count": null,
      "outputs": []
    },
    {
      "cell_type": "markdown",
      "source": [
        "#完成\n",
        "F91\n",
        "https://zerojudge.tw/ShowProblem?problemid=c002"
      ],
      "metadata": {
        "id": "IZVXdT3pfaOZ"
      }
    },
    {
      "cell_type": "code",
      "source": [
        "#include <bits/stdc++.h>\n",
        "using namespace std;\n",
        "int f91(int N){\n",
        "\n",
        "\tif (N>=101){\n",
        "\t\treturn N-10;\n",
        "\t}\n",
        "\telse{\n",
        "\t\treturn f91(f91(N+11));\n",
        "\t}\n",
        "}\n",
        "\n",
        "\n",
        "int main(){\n",
        "\tint N=1;\n",
        "\twhile(N!=0){\n",
        "\tcin>>N;\n",
        "\tif(N==0){\n",
        "\t\treturn 0;\n",
        "\t}\n",
        "\tcout<<\"f91(\"<<N<<\") = \"<<f91(N);\n",
        "\tcout<<endl;\n",
        "\t}\n",
        "\treturn 0;\n",
        "}\n"
      ],
      "metadata": {
        "id": "3EfGnkkAfeMf"
      },
      "execution_count": null,
      "outputs": []
    },
    {
      "cell_type": "markdown",
      "source": [
        "#完成\n",
        "遞迴練習\n",
        "https://zerojudge.tw/ShowProblem?problemid=e357"
      ],
      "metadata": {
        "id": "MyvWfGt-iDKp"
      }
    },
    {
      "cell_type": "code",
      "source": [
        "#include <bits/stdc++.h>\n",
        "using namespace std;\n",
        "int F(int x){\n",
        "\tif(x==1){\n",
        "\t\treturn 1;\n",
        "\t}\n",
        "\telse if(x%2==0){\n",
        "\t\treturn F(x/2);\n",
        "\t}\n",
        "\telse{\n",
        "\t\treturn F(x-1)+F(x+1);\n",
        "\t}\n",
        "}\n",
        "\n",
        "\n",
        "int main(){\n",
        "\tint N;\n",
        "\tcin>>N;\n",
        "\tcout<<F(N);\n",
        "\treturn 0;\n",
        "}\n"
      ],
      "metadata": {
        "id": "RL1pbS14iHoZ"
      },
      "execution_count": null,
      "outputs": []
    },
    {
      "cell_type": "markdown",
      "source": [
        "#未完成\n",
        "共同的數\n",
        "https://zerojudge.tw/ShowProblem?problemid=d478\n"
      ],
      "metadata": {
        "id": "rjMVcvdMjGeq"
      }
    },
    {
      "cell_type": "markdown",
      "source": [
        "未完成"
      ],
      "metadata": {
        "id": "YhvXA0l7nfOb"
      }
    },
    {
      "cell_type": "code",
      "source": [
        "#include <bits/stdc++.h>\n",
        "using namespace std;\n",
        "int main(){\n",
        "\tint i,n,m,a[10025],b[10025],j,k,a_counter=0,b_counter=0,count=0;\n",
        "\tcin>>n>>m;\n",
        "\tfor(i=0;i<n;i++){\n",
        "\t\t//cout<<i;\n",
        "\t\tfor(j=0;j<m;j++){\n",
        "\t\t\tcin>>a[j];\n",
        "\t\t}\n",
        "\t\tfor(k=0;k<m;k++){\n",
        "\t\t\tcin>>b[k];\n",
        "\t\t}\n",
        "\t\twhile(a_counter!=m and b_counter!=m){\n",
        "\t\t\tif (a_counter==m and b_counter!= m){\n",
        "\t\t\t\tb_counter+=1;\n",
        "\t\t\t}\n",
        "\t\t\tif(a[a_counter]>b[b_counter]){\n",
        "\t\t\t\tb_counter=b_counter+1;\n",
        "\t\t\t}\n",
        "\t\t\telse if(a[a_counter]<b[b_counter]){\n",
        "\t\t\t\ta_counter=a_counter+1;\n",
        "\t\t\t}\n",
        "\t\t\telse{\n",
        "\t\t\t\tcount=count+1;\n",
        "\t\t\t}\n",
        "\n",
        "\n",
        "\t\t}\n",
        "\t\tcout<<count;\n",
        "\t}\n",
        "\treturn 0;\n",
        "}\n"
      ],
      "metadata": {
        "id": "T_AxalpwjNEb"
      },
      "execution_count": null,
      "outputs": []
    },
    {
      "cell_type": "markdown",
      "source": [
        "#完成\n",
        "c813. 11332 - Summing Digits\n",
        "https://zerojudge.tw/ShowProblem?problemid=c813"
      ],
      "metadata": {
        "id": "iUSgJCHM9Lfv"
      }
    },
    {
      "cell_type": "code",
      "source": [
        "#include <bits/stdc++.h>\n",
        "using namespace std;\n",
        "int f(int x){\n",
        "\tlong long int check=10,total=0;\n",
        "\tif(x<10){\n",
        "\t\treturn x;\n",
        "\t}\n",
        "\telse{\n",
        "\t\t//cout<<\"x/10=\"<<x/10<<endl;\n",
        "\t\ttotal=x%10+total;\n",
        "\t\tx=x/10;\n",
        "\t\t//cout<<\"x=\"<<x<<endl;\n",
        "\t}\n",
        "\treturn f(x)+total;\n",
        "\t//return f(x);\n",
        "}\n",
        "int main(){\n",
        "\tlong long int check=10,n=1,s=0;\n",
        "\twhile(n!=0){\n",
        "\t\tcin>>n;\n",
        "\t\tif(n==0){\n",
        "\t\t\tbreak;\n",
        "\t\t}\n",
        "\t\ts=f(n);\n",
        "\t\twhile(s>=10){\n",
        "\t\t\ts=f(s);\n",
        "\t\t}\n",
        "\t\tcout<<s<<endl;\n",
        "\t}\n",
        "\treturn 0;\n",
        "}"
      ],
      "metadata": {
        "id": "pq1Ja_Ym9pc9"
      },
      "execution_count": null,
      "outputs": []
    },
    {
      "cell_type": "markdown",
      "source": [
        "#未完成\n",
        "d044. 00640 - Self Numbers\n",
        "https://zerojudge.tw/ShowProblem?problemid=d044\n",
        "\n"
      ],
      "metadata": {
        "id": "dSwwFxBlSl-I"
      }
    },
    {
      "cell_type": "code",
      "source": [
        "#錯誤\n",
        "\n",
        "#include <bits/stdc++.h>\n",
        "using namespace std;\n",
        "int sn(int x){\n",
        "\tint check=10,total=0;\n",
        "\tif(x<10){\n",
        "\t\treturn x;\n",
        "\t}\n",
        "\telse{\n",
        "\t\ttotal=x%10+total;\n",
        "\t\tx=x/10;\n",
        "\t}\n",
        "\treturn sn(x)+total;\n",
        "}\n",
        "int main(){\n",
        "\tint num=1;\n",
        "\twhile(num!=1000001){\n",
        "\t\tif(num>1000000){\n",
        "\t\t\tbreak ;\n",
        "\t\t}\n",
        "\t\tif(num==sn(num)){\n",
        "\t\t\tcout<<num<<endl;\n",
        "\t\t}\n",
        "\t\tnum=num+1;\n",
        "}\n",
        "\treturn 0;\n",
        "}\n"
      ],
      "metadata": {
        "id": "sS_UM_nWVL43"
      },
      "execution_count": null,
      "outputs": []
    },
    {
      "cell_type": "code",
      "source": [
        "#他人解\n",
        "#include <iostream>\n",
        "using namespace std;\n",
        "int num[1000001]={0};\n",
        "int main(){\n",
        "  int next,j;\n",
        "  for(int i=1;i<=1000000;i++){\n",
        "    j=i;\n",
        "    if (num[j] == 0){\n",
        "      while(1){\n",
        "        next=j;\n",
        "        while(j>0){\n",
        "          next+=j%10;\n",
        "          j=j/10;\n",
        "        }\n",
        "        if ((next <=1000000)&&(num[next]==0)) {\n",
        "          num[next]=1;\n",
        "          j=next;\n",
        "        }\n",
        "        else break;\n",
        "      }\n",
        "    }\n",
        "  }\n",
        "  for(int i=1;i<=1000000;i++){\n",
        "      if (num[i]==0) cout <<  i<<endl;\n",
        "  }\n",
        "}"
      ],
      "metadata": {
        "id": "KqjFo_-hhjEr"
      },
      "execution_count": null,
      "outputs": []
    },
    {
      "cell_type": "markdown",
      "source": [
        "\n",
        "#完成\n",
        "m581. 狼人殺 (Werewolves)https://zerojudge.tw/ShowProblem?problemid=m581"
      ],
      "metadata": {
        "id": "7YQuUPCwpqK0"
      }
    },
    {
      "cell_type": "code",
      "source": [
        "#include <bits/stdc++.h>\n",
        "using namespace std;\n",
        "int main(){\n",
        "\tint player[20],n,d=1,count=0,wrong=0;\n",
        "\tcin>>n;\n",
        "\tfor(int i=1;i<=n;i++){\n",
        "\t\tcin>>player[i];\n",
        "\t}\n",
        "\n",
        "\t//for(int i=0;i<n;i++){\n",
        "\t//\tcout<<\"player\"<<i<<\"=\"<<player[i];\n",
        "\t//}\n",
        "\twhile(d!=0){\n",
        "\t\tcin>>d;\n",
        "\t\tif(player[d]!=4){\n",
        "\t\t\tplayer[d]=4;\n",
        "\t\t}\n",
        "\t\telse{\n",
        "\t\t\t//cout<<\"Wrong\";\n",
        "\t\t\twrong=1;\n",
        "\t\t\tbreak;\n",
        "\t\t}\n",
        "\n",
        "\t}\n",
        "\tfor(int i=1;i<=n;i++){\n",
        "\t\tif(player[i]==-1){\n",
        "\t\t\tcount=1;\n",
        "\t\t}\n",
        "\t}\n",
        "\tif(count==0&&wrong==0){\n",
        "\t\tcout<<\"Townsfolk\";\n",
        "\t}\n",
        "\telse if(count==1&&wrong==0){\n",
        "\t\tcout<<\"Werewolves\";\n",
        "\t}\n",
        "\telse{\n",
        "\t\tcout<<\"Wrong\";\n",
        "\t}\n",
        "\n",
        "\treturn 0;\n",
        "}\n"
      ],
      "metadata": {
        "id": "IF5CFar_pvxL"
      },
      "execution_count": null,
      "outputs": []
    },
    {
      "cell_type": "markdown",
      "source": [
        "#完成\n",
        "a059. 完全平方和https://zerojudge.tw/ShowProblem?problemid=a059"
      ],
      "metadata": {
        "id": "kBbJ1s-VG44F"
      }
    },
    {
      "cell_type": "code",
      "source": [
        "#include <bits/stdc++.h>\n",
        "using namespace std;\n",
        "int main(){\n",
        "\tint t,a,b,j,sq[40],total=0,count=0;\n",
        "\tsq[0]=-1;\n",
        "\tfor(j=1;j<=31;j++){\n",
        "\t\tsq[j]=j*j;\n",
        "\t\t//cout<<sq[j]<<endl;\n",
        "\t}\n",
        "\tcin>>t;\n",
        "\tfor(int i=1;i<=t;i++){\n",
        "\t\tcin>>a>>b;\n",
        "\t\ttotal=0;\n",
        "\t\tfor(j=1;j<=31;j++){\n",
        "\t\t\tif(sq[j]>=a and sq[j]<b){\n",
        "\t\t\t\ttotal=sq[j]+total;\n",
        "\t\t\t\t//cout<<\"total=\"<<total<<endl;\n",
        "\t\t}\n",
        "\t\t\t//cout<<sq[j]<<endl;\n",
        "\t}\n",
        "\t\tcount=count+1;\n",
        "\t\tcout<<\"Case \"<<count<<\": \"<<total<<endl;\n",
        "}\n",
        "\n",
        "\n",
        "\n",
        "\treturn 0;\n",
        "}\n"
      ],
      "metadata": {
        "id": "9PZbqhS0HAI5"
      },
      "execution_count": null,
      "outputs": []
    },
    {
      "cell_type": "markdown",
      "source": [
        "#完成\n",
        "a022. 迴文https://zerojudge.tw/ShowProblem?problemid=a022\n"
      ],
      "metadata": {
        "id": "iBLJwiJjKmUy"
      }
    },
    {
      "cell_type": "code",
      "source": [
        "//reverse解法\n",
        "#include <bits/stdc++.h>\n",
        "using namespace std;\n",
        "int main(){\n",
        "\tstring restr,str;\n",
        "\tcin>>restr;\n",
        "\tstr=restr;\n",
        "\treverse(restr.begin(), restr.end());\n",
        "\tif (str==restr){\n",
        "\t\tcout<<\"yes\";\n",
        "\t}\n",
        "\telse{\n",
        "\t\tcout<<\"no\";\n",
        "\t}\n",
        "\treturn 0;\n",
        "}\n"
      ],
      "metadata": {
        "id": "rj3GUKkRLwgZ"
      },
      "execution_count": null,
      "outputs": []
    },
    {
      "cell_type": "markdown",
      "source": [
        "#未完成\n",
        "a215. 明明愛數數https://zerojudge.tw/ShowProblem?problemid=a215"
      ],
      "metadata": {
        "id": "3c-Ew8CUNocG"
      }
    },
    {
      "cell_type": "markdown",
      "source": [
        "錯誤"
      ],
      "metadata": {
        "id": "u6K-JkpAPnaY"
      }
    },
    {
      "cell_type": "code",
      "source": [
        "#include <bits/stdc++.h>\n",
        "using namespace std;\n",
        "int main(){\n",
        "\tint n,m,count=0,total=0;\n",
        "\twhile(cin>>n>>m){\n",
        "\t\tcount=0;\n",
        "\t\ttotal=0;\n",
        "\t\twhile(total<m){\n",
        "\t\t\tcount=count+1;\n",
        "\t\t\ttotal=n+count+total;\n",
        "\t\t\t//cout<<\"total=\"<<total<<endl;\n",
        "\t\t}\n",
        "\t\tif(total==m){\n",
        "\t\t\tcount=count+1;\n",
        "\t\t}\n",
        "\t\tcout<<count<<endl;\n",
        "\t}\n",
        "\treturn 0;\n",
        "}\n"
      ],
      "metadata": {
        "id": "7DMiV40wNv4p"
      },
      "execution_count": null,
      "outputs": []
    },
    {
      "cell_type": "markdown",
      "source": [
        "試圖if m為負數但一樣"
      ],
      "metadata": {
        "id": "EDqfFF49Qw-w"
      }
    },
    {
      "cell_type": "code",
      "source": [
        "#include <bits/stdc++.h>\n",
        "using namespace std;\n",
        "int main(){\n",
        "\tint n,m,count=0,total=0;\n",
        "\twhile(cin>>n>>m){\n",
        "\t\tcount=0;\n",
        "\t\ttotal=0;\n",
        "\t\tif(m>0){\n",
        "\t\t\twhile(total<m){\n",
        "\t\t\t\tcount=count+1;\n",
        "\t\t\t\ttotal=n+count+total;\n",
        "\t\t\t\t//cout<<\"total=\"<<total<<endl;\n",
        "\t\t\t}\n",
        "\t\t}\n",
        "\t\telse{\n",
        "\t\t\twhile(total>m){\n",
        "\t\t\t\tcount=count+1;\n",
        "\t\t\t\ttotal=n+count+total;\n",
        "\t\t\t\t//cout<<\"total=\"<<total<<endl;\n",
        "\t\t\t}\n",
        "\t\t}\n",
        "\t\tif(total==m){\n",
        "\t\t\tcount=count+1;\n",
        "\t\t}\n",
        "\t\tcout<<count<<endl;\n",
        "\t}\n",
        "\treturn 0;\n",
        "}\n"
      ],
      "metadata": {
        "id": "rbnfwND3Q1wo"
      },
      "execution_count": null,
      "outputs": []
    },
    {
      "cell_type": "markdown",
      "source": [
        "#完成\n",
        "b884. 電腦教室的傑克\n",
        "https://zerojudge.tw/ShowProblem?problemid=b884"
      ],
      "metadata": {
        "id": "bC73DichTFZH"
      }
    },
    {
      "cell_type": "code",
      "source": [
        "#include <bits/stdc++.h>\n",
        "using namespace std;\n",
        "int main(){\n",
        "\tint n,yee;\n",
        "\tdouble x,y,r;\n",
        "\tcin>>n;\n",
        "\tfor(int i=0;i<n;i++){\n",
        "\t\tcin>>x>>y;\n",
        "\t\tr=sqrt(x+y);\n",
        "\t\t//r=sqrt(x)+y;\n",
        "\t\tyee=100-r*r;\n",
        "\t\t//cout<<\"r=\"<<r<<endl;\n",
        "\t\t//cout<<\"yee=\"<<yee<<endl;\n",
        "\t\tif(yee<=30 and yee>0){\n",
        "\t\t\tcout<<\"sad!\"<<endl;\n",
        "\t\t}\n",
        "\t\telse if(yee>60 and yee<100){\n",
        "\t\t\tcout<<\"Happyyummy\"<<endl;\n",
        "\t\t}\n",
        "\t\telse if(yee>30 and yee<=60){\n",
        "\t\t\tcout<<\"hmm~~\"<<endl;\n",
        "\t\t}\n",
        "\t\telse{\n",
        "\t\t\tcout<<\"evil!!\"<<endl;\n",
        "\t\t}\n",
        "\t}\n",
        "\treturn 0;\n",
        "}\n"
      ],
      "metadata": {
        "id": "1Sg8ypHXTO1_"
      },
      "execution_count": null,
      "outputs": []
    },
    {
      "cell_type": "markdown",
      "source": [
        "#完成\n",
        "d570. 神龍見首不見尾\n",
        "https://zerojudge.tw/ShowProblem?problemid=d570"
      ],
      "metadata": {
        "id": "XAN3GOi0Yncf"
      }
    },
    {
      "cell_type": "code",
      "source": [
        "#include <bits/stdc++.h>\n",
        "using namespace std;\n",
        "int main(){\n",
        "\tint num;\n",
        "\tcin>>num;\n",
        "\twhile(num>=1){\n",
        "\t\tcout<<num<<endl;\n",
        "\t\tnum=num/10;\n",
        "\t}\n",
        "\treturn 0;\n",
        "}\n"
      ],
      "metadata": {
        "id": "8hO9ZwYqYntU"
      },
      "execution_count": null,
      "outputs": []
    },
    {
      "cell_type": "markdown",
      "source": [
        "#完成\n",
        "d010. 盈數、虧數和完全數https://zerojudge.tw/ShowProblem?problemid=d010"
      ],
      "metadata": {
        "id": "_b7C7pkRYzQV"
      }
    },
    {
      "cell_type": "code",
      "source": [
        "#include <bits/stdc++.h>\n",
        "using namespace std;\n",
        "int main(){\n",
        "\tint n,i,j,total=0,num;\n",
        "\twhile(cin>>n){\n",
        "\n",
        "\t\t//cin>>n;\n",
        "\t\tnum=n;\n",
        "\t\ttotal=0;\n",
        "\t\tfor(i=1;i<=n;i++){\n",
        "\t\t\tif(num%i==0){\n",
        "\t\t\t\t//cout<<i<<endl;\n",
        "\t\t\t\ttotal=total+i;\n",
        "\t\t\t}\n",
        "\t\t}\n",
        "\t\ttotal=total-num;\n",
        "\t\t//cout<<total;\n",
        "\t\tif(total>n){\n",
        "\t\t\tcout<<\"盈數\"<<endl;\n",
        "\t\t}\n",
        "\t\telse if(total<n){\n",
        "\t\t\tcout<<\"虧數\"<<endl;\n",
        "\t\t}\n",
        "\t\telse{\n",
        "\t\t\tcout<<\"完全數\"<<endl;\n",
        "\t\t}\n",
        "}\n",
        "\n",
        "\treturn 0;\n",
        "}\n"
      ],
      "metadata": {
        "id": "WMchZKUeYzaE"
      },
      "execution_count": null,
      "outputs": []
    },
    {
      "cell_type": "markdown",
      "source": [
        "#完成\n",
        "c022. 10783 - Odd Sumhttps://zerojudge.tw/ShowProblem?problemid=c022"
      ],
      "metadata": {
        "id": "jpVX3m8IeKkF"
      }
    },
    {
      "cell_type": "code",
      "source": [
        "#include <bits/stdc++.h>\n",
        "using namespace std;\n",
        "int main(){\n",
        "\tint n,a,b,total=0,count=0;\n",
        "\tcin>>n;\n",
        "\tfor(int i=0;i<n;i++){\n",
        "\t\tcin>>a>>b;\n",
        "\t\ttotal=0;\n",
        "\t\tfor(int j=a;j<=b;j++){\n",
        "\t\t\t//cout<<\"j=\"<<j<<endl;\n",
        "\t\t\tif(j%2==1){\n",
        "\t\t\t\t//cout<<\"Odd_j=\"<<j<<endl;\n",
        "\t\t\t\ttotal=total+j;\n",
        "\t\t\t}\n",
        "\t\t}\n",
        "\t\tcount=count+1;\n",
        "\t\tcout<<\"Case \"<<count<<\": \"<<total<<endl;\n",
        "\t}\n",
        "\treturn 0;\n",
        "}"
      ],
      "metadata": {
        "id": "rI98FD0heKs0"
      },
      "execution_count": null,
      "outputs": []
    },
    {
      "cell_type": "markdown",
      "source": [
        "#完成\n",
        "e621. 1. 免費停車 (Free Parking)https://zerojudge.tw/ShowProblem?problemid=e621"
      ],
      "metadata": {
        "id": "uBLHVlMBg3kr"
      }
    },
    {
      "cell_type": "code",
      "source": [
        "#include <bits/stdc++.h>\n",
        "using namespace std;\n",
        "int main(){\n",
        "\tint n,a,b,c,count=0;\n",
        "\tcin>>n;\n",
        "\tfor(int i=0;i<n;i++){\n",
        "\t\tcin>>a>>b>>c;\n",
        "\t\tcount=0;\n",
        "\t\tfor(int j=a+1;j<b;j++){\n",
        "\t\t\tif(j%c!=0){\n",
        "\t\t\t\tcout<<j<<\" \";\n",
        "\t\t\t\tcount=count+1;\n",
        "\t\t\t}\n",
        "\t\t}\n",
        "\t\tif(count==0){\n",
        "\t\t\tcout<<\"No free parking spaces.\";\n",
        "\t\t}\n",
        "\t\tcout<<endl;\n",
        "\t}\n",
        "\treturn 0;\n",
        "}\n"
      ],
      "metadata": {
        "id": "_uxGhCc4g3sF"
      },
      "execution_count": null,
      "outputs": []
    },
    {
      "cell_type": "markdown",
      "source": [
        "#未完成\n",
        "a225. 明明愛排列https://zerojudge.tw/ShowProblem?problemid=a225"
      ],
      "metadata": {
        "id": "dljQ37o0jYjh"
      }
    },
    {
      "cell_type": "code",
      "source": [
        "#include <bits/stdc++.h>\n",
        "using namespace std;\n",
        "int main(){\n",
        "\tint N,i,min;\n",
        "\twhile(cin>>N){\n",
        "\t\tint num[1005]={},renum[1005]={};\n",
        "\t\tfor (i=0;i<N;i++){\n",
        "\t\t\tcin>>num[i];\n",
        "\t\t}\n",
        "\t\tsort(num,num+i);\n",
        "\t\tfor (i=0;i<N;i++){\n",
        "\t\t\trenum[i]=num[i];\n",
        "\t\t}\n",
        "\t\t//for (i=0;i<N;i++){\n",
        "\t\t\t//cout<<num[i]<<\" \";\n",
        "\t\t\t//renum=num[i];\n",
        "\t\t//}\n",
        "\t\tfor (i=0;i<N;i++){\n",
        "\t\t\tfor(int j=0;j<N;j++){\n",
        "\t\t\t\tif(num[i]%10>num[j]%10){\n",
        "\t\t\t\t\tcout<<num[i]<<\"的\"<<num[i]%10<<\">\"<<num[j]<<\"的\"<<num[j]%10<<endl;\n",
        "\t\t\t\t\tmin=num[j];\n",
        "\t\t\t\t\tnum[j]=num[i];\n",
        "\t\t\t\t\tnum[i]=min;\n",
        "\t\t\t\t}\n",
        "\t\t\t}\n",
        "\n",
        "\t\tfor (i=0;i<N;i++){\n",
        "\t\t\tcout<<num[i]<<\" \";\n",
        "\t\t\t//renum[i]=num[i];\n",
        "\t\t}\n",
        "\t\t}\n",
        "\n",
        "\n",
        "\n",
        "\t}\n",
        "\treturn 0;\n",
        "}\n"
      ],
      "metadata": {
        "id": "6TZeyfSNjYqh"
      },
      "execution_count": null,
      "outputs": []
    },
    {
      "cell_type": "code",
      "source": [
        "#include <stdio.h>\n",
        "int main() {\n",
        "    int n;\n",
        "    while(scanf(\"%d\", &n)!=EOF) {\n",
        "\n",
        "        int arr[n];\n",
        "        for(int i=0;i<n;i++)\n",
        "            scanf(\"%d\", &arr[i]);\n",
        "\n",
        "        for(int i=1;i<n;i++)\n",
        "            for(int j=0;j<i;j++) {\n",
        "                if(arr[j]%10>arr[i]%10) {\n",
        "                    int temp=arr[i];\n",
        "                    arr[i]=arr[j];\n",
        "                    arr[j]=temp;\n",
        "                }\n",
        "                else if(arr[j]%10==arr[i]%10 && arr[j]<arr[i]) {\n",
        "                    int temp=arr[i];\n",
        "                    arr[i]=arr[j];\n",
        "                    arr[j]=temp;\n",
        "                }\n",
        "            }\n",
        "\n",
        "        for(int i=0;i<n;i++)\n",
        "            printf(\"%d \", arr[i]);\n",
        "        printf(\"\\n\");\n",
        "    }\n",
        "    return 0;\n",
        "}"
      ],
      "metadata": {
        "id": "qz29D8eso4dh"
      },
      "execution_count": null,
      "outputs": []
    },
    {
      "cell_type": "markdown",
      "source": [
        "筆記\n",
        "\n",
        "include匯入他人函式\n",
        "\n",
        "int abs(x)絕對值\n",
        "\n",
        "double sqrt(double x)更號  --> 要避免浮點數誤差\n",
        "\n",
        "double log(double x) log --> log以1為底\n",
        "\n",
        "double log10(double x) log --> log以10為底\n",
        "\n",
        "template<class T> void swap(T& a, T& b)交換兩數\n",
        "\n",
        "void sort(陣列first,陣列last)排序"
      ],
      "metadata": {
        "id": "vOqhGuiQrwCR"
      }
    },
    {
      "cell_type": "markdown",
      "source": [
        "#完成\n",
        "\n",
        "d587. 參貳壹真好吃https://zerojudge.tw/ShowProblem?problemid=d587"
      ],
      "metadata": {
        "id": "9czs_Om945eX"
      }
    },
    {
      "cell_type": "code",
      "source": [
        "#include <bits/stdc++.h>\n",
        "using namespace std;\n",
        "int main(){\n",
        "\tint N,i,min;\n",
        "\tint num[100000]={};\n",
        "\tcin>>N;\n",
        "\tfor (i=0;i<N;i++){\n",
        "\t\tcin>>num[i];\n",
        "\t}\n",
        "\tsort(num,num+i);\n",
        "\tfor (i=0;i<N;i++){\n",
        "\t\tcout<<num[i]<<\" \";\n",
        "\t}\n",
        "\treturn 0;\n",
        "}"
      ],
      "metadata": {
        "id": "B10QccLf45lc"
      },
      "execution_count": null,
      "outputs": []
    },
    {
      "cell_type": "markdown",
      "source": [
        "#未完成\n",
        "d635. 幸運777?luckhttps://zerojudge.tw/ShowProblem?problemid=d635"
      ],
      "metadata": {
        "id": "Z2OXV3ZA5CFc"
      }
    },
    {
      "cell_type": "code",
      "source": [
        "#include <bits/stdc++.h>\n",
        "using namespace std;\n",
        "int main(){\n",
        "\tint N=1,i,min;\n",
        "\n",
        "\twhile(N>0){\n",
        "\t\tcin>>N;\n",
        "\t\tif(N<0){\n",
        "\t\t\tbreak;\n",
        "\t\t}\n",
        "\t\tcout<<N/8*10+N%8;\n",
        "\t}\n",
        "\treturn 0;\n",
        "}"
      ],
      "metadata": {
        "id": "Xk_57bgl5CJr"
      },
      "execution_count": null,
      "outputs": []
    },
    {
      "cell_type": "code",
      "source": [
        "#include <bits/stdc++.h>\n",
        "using namespace std;\n",
        "int main(){\n",
        "\tint N=1,i,min,stp=0,count=1000,total=0;\n",
        "\n",
        "\twhile(N>0){\n",
        "\t\tcin>>N;\n",
        "\t\ttotal=0;\n",
        "\t\tcount=1;\n",
        "\t\tif(N<0){\n",
        "\t\t\tbreak;\n",
        "\t\t}\n",
        "\t\tstp=N;\n",
        "\t\twhile(stp>=8){\n",
        "\n",
        "\t\t\tstp=stp/8;\n",
        "\t\t\tcout<<\"stp=\"<<stp<<endl;\n",
        "\t\t\ttotal=(stp%8)*count+total;\n",
        "\t\t\tcout<<\"total=\"<<total<<endl;\n",
        "\t\t\tcount=count*10;\n",
        "\t\t}\n",
        "\t\tcout<<total<<endl;\n",
        "\t}\n",
        "\treturn 0;\n",
        "}"
      ],
      "metadata": {
        "id": "ttGu_06tXWdO"
      },
      "execution_count": null,
      "outputs": []
    },
    {
      "cell_type": "markdown",
      "source": [
        "未debug![陣列起始值.png](data:image/png;base64,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![示範題_鏡像對稱.png](data:image/png;base64,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))![排序.png](data:image/png;base64,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)![示範題_鏡像對稱.png](data:image/png;base64,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)"
      ],
      "metadata": {
        "id": "jx1xZNK5EQZB"
      }
    },
    {
      "cell_type": "code",
      "source": [
        "#include <bits/stdc++.h>\n",
        "using namespace std;\n",
        "int main(){\n",
        "\tint n=1;\n",
        "\twhile(cin>>n){\n",
        "\t\tif(n<0){\n",
        "\t\t\tcout<<-1;\n",
        "\t\t\tbreak;\n",
        "\t\t}\n",
        "\t\telse if(n>=0){\n",
        "\t\t\tcout<<oct<<n<<endl;\n",
        "\t\t}\n",
        "\n",
        "\t}\n",
        "\treturn 0;\n",
        "}\n",
        "\n"
      ],
      "metadata": {
        "id": "kOUKG1QDEPTR"
      },
      "execution_count": null,
      "outputs": []
    },
    {
      "cell_type": "markdown",
      "source": [
        "#完成\n",
        "e339. 前綴和練習https://zerojudge.tw/ShowProblem?problemid=e339"
      ],
      "metadata": {
        "id": "5WR56ep0XrkN"
      }
    },
    {
      "cell_type": "markdown",
      "source": [
        "36% 最後一個被time killed"
      ],
      "metadata": {
        "id": "UsNTakqcy3GN"
      }
    },
    {
      "cell_type": "code",
      "source": [
        "#include <bits/stdc++.h>\n",
        "using namespace std;\n",
        "int main(){\n",
        "\tlong long int a[200005],b[20005],n,total=0,count=0,i,j,check=1;\n",
        "\tcin>>n;\n",
        "\tfor(i=0;i<n;i++){\n",
        "\t\tcin>>a[i];\n",
        "\t}\n",
        "\tfor(i=0;i<n;i++){\n",
        "\t\tfor(j=0;j<check;j++){\n",
        "\t\t\tcount=count+a[j];\n",
        "\t\t\t//cout<<\"count=\"<<count<<endl;\n",
        "\t\t}\n",
        "\t\tb[i]=count;\n",
        "\t\tcout<<b[i]<<\" \";\n",
        "\t\tcount=0;\n",
        "\t\tcheck=check+1;\n",
        "\t}\n",
        "\treturn 0;\n",
        "}\n"
      ],
      "metadata": {
        "id": "Y8ImO_tgXr3V"
      },
      "execution_count": null,
      "outputs": []
    },
    {
      "cell_type": "markdown",
      "source": [
        "改1個迴圈\n",
        "\n",
        "用前總和+a[i]\n",
        "\n",
        "AC(0.3s, 1.8MB)"
      ],
      "metadata": {
        "id": "2XXpTRGsO4Ta"
      }
    },
    {
      "cell_type": "code",
      "source": [
        "#include <bits/stdc++.h>\n",
        "using namespace std;\n",
        "int main(){\n",
        "\tlong long int a[200005],b[20005],n,total=0,count=0,i,j,check=1,tmp=0;\n",
        "\tcin>>n;\n",
        "\tfor(i=0;i<n;i++){\n",
        "\t\tcin>>a[i];\n",
        "\t}\n",
        "\tfor(i=0;i<n;i++){\n",
        "\t\tif(i==0){\n",
        "\t\t\tcount=a[i];\n",
        "\t\t}\n",
        "\t\telse{\n",
        "\t\t\tcount=tmp+a[i];\n",
        "\t\t}\n",
        "\t\tb[i]=count;\n",
        "\t\ttmp=b[i];\n",
        "\t\tcout<<b[i]<<\" \";\n",
        "\t\tcount=0;\n",
        "\t\tcheck=check+1;\n",
        "\t}\n",
        "\treturn 0;\n",
        "}\n"
      ],
      "metadata": {
        "id": "VEISPf5APF7Q"
      },
      "execution_count": null,
      "outputs": []
    },
    {
      "cell_type": "markdown",
      "source": [
        "#完成\n",
        "e340. 差分練習https://zerojudge.tw/ShowProblem?problemid=e340"
      ],
      "metadata": {
        "id": "Lck1pGlsl7y2"
      }
    },
    {
      "cell_type": "code",
      "source": [
        "#include <bits/stdc++.h>\n",
        "using namespace std;\n",
        "int main(){\n",
        "\tint x=1,a[200005],b[200005];\n",
        "\tcin>>x;\n",
        "\tfor(i=0;i<x;i++){\n",
        "\n",
        "\t}\n",
        "\n",
        "\n",
        "\treturn 0;\n",
        "}\n"
      ],
      "metadata": {
        "id": "P26YqdDUvn0z"
      },
      "execution_count": null,
      "outputs": []
    },
    {
      "cell_type": "code",
      "source": [
        "#include <bits/stdc++.h>\n",
        "using namespace std;\n",
        "int main(){\n",
        "\tlong long int a[200005],b[20005],n,total=0,count=0,i,j,check=1,stp=0;\n",
        "\tcin>>n;\n",
        "\tfor(i=0;i<n;i++){\n",
        "\t\tcin>>a[i];\n",
        "\t}\n",
        "\tfor(i=0;i<n;i++){\n",
        "\t\tcount=a[i];\n",
        "\t\tb[i]=count-stp;\n",
        "\t\tstp=a[i];\n",
        "\t\tcout<<b[i]<<\" \";\n",
        "\t\tcount=0;\n",
        "\t\t//check=check+1;\n",
        "\t}\n",
        "\treturn 0;\n",
        "}\n"
      ],
      "metadata": {
        "id": "Zx7dKqrzl75W"
      },
      "execution_count": null,
      "outputs": []
    },
    {
      "cell_type": "markdown",
      "source": [
        "#完成\n",
        "\n",
        "c067. 00591 - Box of Brickshttps://zerojudge.tw/ShowProblem?problemid=c067"
      ],
      "metadata": {
        "id": "UYxRMncOmUVe"
      }
    },
    {
      "cell_type": "code",
      "source": [
        "#include <bits/stdc++.h>\n",
        "using namespace std;\n",
        "int main(){\n",
        "\tint hi[105],t,n=1,total=0,count=0,avg,totalmove=0,z;\n",
        "\twhile(n!=0){\n",
        "\t\tcin>>n;\n",
        "\t\tif(n==0){\n",
        "\t\t\tbreak;\n",
        "\t\t}\n",
        "\t\ttotalmove=0;\n",
        "\t\tfor(int i=0;i<n;i++){\n",
        "\t\t\tcin>>hi[i];\n",
        "\t\t\ttotal=hi[i]+total;\n",
        "\t\t}\n",
        "\t\tavg=total/n;\n",
        "\t\tfor(int i=0;i<n;i++){\n",
        "\t\t\tif(hi[i]>avg){\n",
        "\t\t\t\t//cout<<hi[i]<<\">\"<<avg<<endl;\n",
        "\t\t\t\tz=hi[i]-avg;\n",
        "\t\t\t\t//cout<<\"差=\"<<z<<endl;\n",
        "\t\t\t\ttotalmove=z+totalmove;\n",
        "\t\t\t\t//cout<<\"totalmove=\"<<totalmove<<endl;\n",
        "\t\t\t}\n",
        "\t\t}\n",
        "\t\tcount=count+1;\n",
        "\t\tcout<<\"Set #\"<<count<<endl;\n",
        "\t\tcout<<\"The minimum number of moves is \"<<totalmove<<\".\"<<endl;\n",
        "\t}\n",
        "\n",
        "\n",
        "\treturn 0;\n",
        "}\n"
      ],
      "metadata": {
        "id": "fPS8YyalmUbe"
      },
      "execution_count": null,
      "outputs": []
    },
    {
      "cell_type": "code",
      "source": [
        "#include <bits/stdc++.h>\n",
        "using namespace std;\n",
        "int main(){\n",
        "\tint hi[105],t,n=1,total=0,count=0,avg,totalmove=0,z=0,i,j;\n",
        "\twhile(n!=0){\n",
        "\t\tcin>>n;\n",
        "\t\tif(n==0){\n",
        "\t\t\tbreak;\n",
        "\t\t}\n",
        "\t\ttotalmove=0;\n",
        "\t\ttotal=0;\n",
        "\t\tfor(i=0;i<n;i++){\n",
        "\t\t\tcin>>hi[i];\n",
        "\t\t\ttotal=hi[i]+total;\n",
        "\t\t}\n",
        "\t\tavg=total/n;\n",
        "\t\tfor(j=0;j<n;j++){\n",
        "\t\t\tif(hi[j]>=avg){\n",
        "\t\t\t\t//cout<<hi[i]<<\">\"<<avg<<endl;\n",
        "\t\t\t\tz=hi[j]-avg;\n",
        "\t\t\t\t//cout<<\"差=\"<<z<<endl;\n",
        "\t\t\t\ttotalmove=z+totalmove;\n",
        "\t\t\t\t//cout<<\"totalmove=\"<<totalmove<<endl;\n",
        "\t\t\t}\n",
        "\t\t}\n",
        "\t\tcount=count+1;\n",
        "\t\tcout<<\"Set #\"<<count<<endl;\n",
        "\t\tcout<<\"The minimum number of moves is \"<<totalmove<<\".\"<<endl;\n",
        "\t}\n",
        "\n",
        "\n",
        "\treturn 0;\n",
        "}\n"
      ],
      "metadata": {
        "id": "Yq4KCQndyHEk"
      },
      "execution_count": null,
      "outputs": []
    },
    {
      "cell_type": "markdown",
      "source": [
        "#完成\n",
        "**APCS 模擬 陣列-程式交易**\n",
        "\n",
        "h081. 1. 程式交易\n",
        "https://zerojudge.tw/ShowProblem?problemid=h081"
      ],
      "metadata": {
        "id": "UMVhDcbY7rbP"
      }
    },
    {
      "cell_type": "markdown",
      "source": [
        "only got 80%"
      ],
      "metadata": {
        "id": "_45h0P3175ko"
      }
    },
    {
      "cell_type": "code",
      "source": [
        "#include <bits/stdc++.h>\n",
        "using namespace std;\n",
        "int main(){\n",
        "\tint n,time,a[105],total=0,tmp=0,ht;\n",
        "\tcin>>n>>time;\n",
        "\tfor(int i=1;i<=n;i++){\n",
        "\t\tcin>>a[i];\n",
        "\t}\n",
        "\tht=a[1];\n",
        "\tfor(int i=1;i<=n;i++){\n",
        "\t\tif(ht==0){\n",
        "\t\t\tif(a[i]<=a[1]-time){\n",
        "\t\t\t\t//cout<<\"buy!\"<<endl;\n",
        "\t\t\t\t//cout<<a[i]<<\"<=\"<<a[1]-time<<endl;\n",
        "\t\t\t\tht=a[i];\n",
        "\t\t\t\ttotal=total-a[i];\n",
        "\n",
        "\t\t\t}\n",
        "\t\t}\n",
        "\t\telse if(ht+time<=a[i]){\n",
        "\t\t\t//cout<<\"sell!\"<<endl;\n",
        "\t\t\t//cout<<ht+time<<\"<=\"<<a[i]<<endl;\n",
        "\n",
        "\t\t\ttotal=a[i]-ht+total;\n",
        "\t\t\tht=0;\n",
        "\n",
        "\t\t}\n",
        "\n",
        "\t}\n",
        "\tcout<<total;\n",
        "\treturn 0;\n",
        "\n",
        "}\n"
      ],
      "metadata": {
        "id": "Dz1W-QDE7463"
      },
      "execution_count": null,
      "outputs": []
    },
    {
      "cell_type": "markdown",
      "source": [
        "他人解:AC"
      ],
      "metadata": {
        "id": "oqKWhHz778_3"
      }
    },
    {
      "cell_type": "code",
      "source": [
        "#include<bits/stdc++.h>\n",
        "using namespace std;\n",
        "int n,d,arr[100],ans=0,buy=0,sell=0;\n",
        "int main(){\n",
        "    cin>>n>>d;\n",
        "    for(int i=0;i<n;i++)cin>>arr[i];\n",
        "    buy=arr[0];\n",
        "    for(int i=1;i<n;i++){\n",
        "        if(buy!=0&&arr[i]>=buy+d){\n",
        "            ans+=arr[i]-buy;\n",
        "            buy=0;\n",
        "            sell=arr[i];\n",
        "        }\n",
        "        if(sell!=0&&arr[i]<=sell-d){\n",
        "            buy=arr[i];\n",
        "            sell=0;\n",
        "        }\n",
        "    }\n",
        "    cout<<ans;\n",
        "}"
      ],
      "metadata": {
        "id": "_nU7gGur7rjQ"
      },
      "execution_count": null,
      "outputs": []
    },
    {
      "cell_type": "markdown",
      "source": [
        "#完成\n",
        "d190. 11462 - Age Sort\n",
        "https://zerojudge.tw/ShowProblem?problemid=d190"
      ],
      "metadata": {
        "id": "EcQ67uH-7_n-"
      }
    },
    {
      "cell_type": "code",
      "source": [
        "#include <bits/stdc++.h>\n",
        "using namespace std;\n",
        "int main(){\n",
        "\tint hi[2000005],t,n=1,total=0,count=0,avg,totalmove=0,z;\n",
        "\twhile(n!=0){\n",
        "\t\tcin>>n;\n",
        "\t\tif(n==0){\n",
        "\t\t\tbreak;\n",
        "\t\t}\n",
        "\t\tfor(int i=0;i<n;i++){\n",
        "\t\t\tcin>>hi[i];\n",
        "\t\t}\n",
        "\t\tsort(hi,hi+n);\n",
        "\t\tfor(int i=0;i<n;i++){\n",
        "\t\t\tcout<<hi[i]<<\" \";\n",
        "\t\t}\n",
        "\t\tcout<<endl;\n",
        "}\n",
        "\n",
        "\treturn 0;\n",
        "}\n"
      ],
      "metadata": {
        "id": "wGyO6D6J7_tf"
      },
      "execution_count": null,
      "outputs": []
    },
    {
      "cell_type": "markdown",
      "source": [
        "#未完成\n",
        "d150. 11369 - Shopaholichttps://zerojudge.tw/ShowProblem?problemid=d150"
      ],
      "metadata": {
        "id": "fPM94K9e9XB5"
      }
    },
    {
      "cell_type": "code",
      "source": [
        "#include <bits/stdc++.h>\n",
        "using namespace std;\n",
        "int main(){\n",
        "\tint cost[20005],t,pi,rem,n,oritotal=0,total=0,runtimes=0,num=2;\n",
        "\tcin>>t;\n",
        "\tfor(int i=0;i<t;i++){\n",
        "\t\tcin>>n;\n",
        "\t\truntimes=n/3;\n",
        "\t\trem=n%3;\n",
        "\t\tfor(int j=0;j<n;j++){\n",
        "\t\t\tcin>>cost[i];\n",
        "\t\t\toritotal=oritotal+cost[i];\n",
        "\t\t}\n",
        "\t\tsort(cost,cost+n);\n",
        "\t\tfor(int i=0;i<runtimes;i++){\n",
        "\t\t\ttotal=cost[num]+total;\n",
        "\n",
        "\t\t}\n",
        "\t}\n",
        "\treturn 0;\n",
        "}\n"
      ],
      "metadata": {
        "id": "GXAi4ZqQ9XGn"
      },
      "execution_count": null,
      "outputs": []
    },
    {
      "cell_type": "markdown",
      "source": [
        "handout"
      ],
      "metadata": {
        "id": "tvJXFVpaB7vm"
      }
    },
    {
      "cell_type": "markdown",
      "source": [
        "#未完成\n",
        "k397. 會議安排 (Meeting)https://zerojudge.tw/ShowProblem?problemid=k397\n",
        "\n"
      ],
      "metadata": {
        "id": "LgpWZJS4EdSA"
      }
    },
    {
      "cell_type": "code",
      "source": [
        "#include <bits/stdc++.h>\n",
        "using namespace std;\n",
        "int main(){\n",
        "\tint N,M,s,e,D,a[10005],b[10005],sizea=0,sizeb=0,count=0,check=0,j,i,k=0;\n",
        "\tcin>>N>>M;\n",
        "\tfor(i=0;i<N;i++){\n",
        "\t\tcin>>s>>e;\n",
        "\t\tfor(int j=k;j<=e-s+k;j++){\n",
        "\t\t\ta[j]=s;\n",
        "\t\t\ts=s+1;\n",
        "\t\t\t//cout<<\"a[\"<<j<<\"]=\"<<a[j]<<endl;\n",
        "\t\t\tk=k+1;\n",
        "\t\t}\n",
        "\t}\n",
        "\tk=0;\n",
        "\tfor(int i=0;i<M;i++){\n",
        "\t\tcin>>s>>e;\n",
        "\t\tfor(j=k;j<=e-s+k;j++){\n",
        "\t\t\tb[j]=s;\n",
        "\t\t\ts=s+1;\n",
        "\t\t\t//cout<<\"b[\"<<j<<\"]=\"<<b[j]<<endl;\n",
        "\t\t\tk=k+1;\n",
        "\t\t}\n",
        "\t}\n",
        "\tcin>>D;\n",
        "\tsizea=sizeof(a);\n",
        "\tsizeb=sizeof(b);\n",
        "\t//cout<<\"sizea=\"<<sizea;\n",
        "\t//cout<<\"sizeb=\"<<sizeb;\n",
        "\tfor(i=0;i<sizea;i++)\n",
        "\t\tfor(j=0;j<sizeb;j++){\n",
        "\t\t\tif(a[i]==b[j]){\n",
        "\t\t\t\tcount=count+1;\n",
        "\t\t\t\t//cout<<a[i]<<\"==\"<<b[j]<<endl;\n",
        "\t\t\t\t//cout<<\"count=\"<<count<<endl;\n",
        "\t\t\t}\n",
        "\t\t\tif(count>=D){\n",
        "\t\t\t\tcheck=1;\n",
        "\t\t\t\tbreak;\n",
        "\t\t\t}\n",
        "\t\t\telse if(a[i]!=b[j]){\n",
        "\t\t\t\tcount=0;\n",
        "\t\t\t}\n",
        "\t\t}\n",
        "\tif(check==1){\n",
        "\t\tcout<<b[j]-D<<\" \"<<b[j];\n",
        "\t}\n",
        "\telse{\n",
        "\t\tcout<<-1;\n",
        "\t}\n",
        "\treturn 0;\n",
        "}\n",
        "\n"
      ],
      "metadata": {
        "id": "ptcp2y2AEXiX"
      },
      "execution_count": null,
      "outputs": []
    },
    {
      "cell_type": "markdown",
      "source": [
        "#完成\n",
        "**APCS 201603-1 成績指標**\n",
        "\n",
        "b964. 1. 成績指標https://zerojudge.tw/ShowProblem?problemid=b964"
      ],
      "metadata": {
        "id": "rHaaRbwr8vds"
      }
    },
    {
      "cell_type": "code",
      "source": [
        "#include <bits/stdc++.h>\n",
        "using namespace std;\n",
        "int main(){\n",
        "\tint peo,bc=101,wc=-1,a[25],i,checkw=0,checkb=0;\n",
        "\tcin>>peo;\n",
        "\tfor(i=0;i<peo;i++){\n",
        "\t\tcin>>a[i];\n",
        "\t\t//cout<<a[i]<<\" \";\n",
        "\t}\n",
        "\t//cout<<endl;\n",
        "\tsort(a,a+peo);\n",
        "\tfor(i=0;i<peo;i++){\n",
        "\t\tcout<<a[i]<<\" \";\n",
        "\t\tif(a[i]<60){\n",
        "\t\t\tif(a[i]>wc){\n",
        "\t\t\t\twc=a[i];\n",
        "\t\t\t\tcheckw=1;\n",
        "\t\t\t}\n",
        "\t\t}\n",
        "\t\telse{\n",
        "\t\t\tif(a[i]<bc){\n",
        "\t\t\t\tbc=a[i];\n",
        "\t\t\t\tcheckb=1;\n",
        "\t\t}\n",
        "\t}\n",
        "\t}\n",
        "\tcout<<endl;\n",
        "\tif(checkw==1){\n",
        "\t\tcout<<wc<<endl;\n",
        "\t}\n",
        "\telse{\n",
        "\t\tcout<<\"best case\"<<endl;\n",
        "\t}\n",
        "\tif(checkb==1){\n",
        "\t\tcout<<bc;\n",
        "\t}\n",
        "\telse{\n",
        "\t\tcout<<\"worst case\";\n",
        "\t}\n",
        "\n",
        "\n",
        "\treturn 0;\n",
        "}\n"
      ],
      "metadata": {
        "id": "vmcO90rP8vjR"
      },
      "execution_count": null,
      "outputs": []
    },
    {
      "cell_type": "markdown",
      "source": [
        "#完成\n",
        "**APCS 排序-數字遊戲**\n",
        "\n",
        "i399. 1. 數字遊戲https://zerojudge.tw/ShowProblem?problemid=i399"
      ],
      "metadata": {
        "id": "90v5QlC3BAgC"
      }
    },
    {
      "cell_type": "code",
      "source": [
        "#include <bits/stdc++.h>\n",
        "using namespace std;\n",
        "int main(){\n",
        "\tint a,b,c,p;\n",
        "\tcin>>a>>b>>c;\n",
        "\tif(a==b and a==c){\n",
        "\t\tcout<<3<<\" \"<<a;\n",
        "\t}\n",
        "\telse if(a!=b and a==c){\n",
        "\t\tif(a>b){\n",
        "\t\t\tcout<<2<<\" \"<<a<<\" \"<<b;\n",
        "\t\t}\n",
        "\t\telse{\n",
        "\t\t\tcout<<2<<\" \"<<b<<\" \"<<a;\n",
        "\t\t}\n",
        "\t}\n",
        "\telse if(a==b and a!=c){\n",
        "\t\tif(a>c){\n",
        "\t\t\tcout<<2<<\" \"<<a<<\" \"<<c;\n",
        "\t\t}\n",
        "\t\telse{\n",
        "\t\t\tcout<<2<<\" \"<<c<<\" \"<<a;\n",
        "\t\t}\n",
        "\t}\n",
        "\telse if(a!=b and b==c){\n",
        "\t\tif(a>b){\n",
        "\t\t\tcout<<2<<\" \"<<a<<\" \"<<b;\n",
        "\t\t}\n",
        "\t\telse{\n",
        "\t\t\tcout<<2<<\" \"<<b<<\" \"<<a;\n",
        "\t\t}\n",
        "\t}\n",
        "\telse if(a!=b and a!=c){\n",
        "\t\tif(a>b and b>c){\n",
        "\t\t\tcout<<1<<\" \"<<a<<\" \"<<b<<\" \"<<c;\n",
        "\t\t}\n",
        "\t\telse if(a>c and c>b){\n",
        "\t\t\tcout<<1<<\" \"<<a<<\" \"<<c<<\" \"<<b;\n",
        "\t\t}\n",
        "\t\telse if(b>a and a>c){\n",
        "\t\t\tcout<<1<<\" \"<<b<<\" \"<<a<<\" \"<<c;\n",
        "\t\t}\n",
        "\t\telse if(b>c and c>a){\n",
        "\t\t\tcout<<1<<\" \"<<b<<\" \"<<c<<\" \"<<a;\n",
        "\t\t}\n",
        "\t\telse if(c>a and a>b){\n",
        "\t\t\tcout<<1<<\" \"<<c<<\" \"<<a<<\" \"<<b;\n",
        "\t\t}\n",
        "\t\telse if(c>b and b>a){\n",
        "\t\t\tcout<<1<<\" \"<<c<<\" \"<<b<<\" \"<<a;\n",
        "\t\t}\n",
        "    }\n",
        "\treturn 0;\n",
        "}\n"
      ],
      "metadata": {
        "id": "rE3bXOSqBAvK"
      },
      "execution_count": null,
      "outputs": []
    },
    {
      "cell_type": "markdown",
      "source": [
        "#完成\n",
        "**2020年10月APCS-人力分配**\n",
        "\n",
        "f312. 1. 人力分配https://zerojudge.tw/ShowProblem?problemid=f312"
      ],
      "metadata": {
        "id": "FWylH7h7E5Bz"
      }
    },
    {
      "cell_type": "code",
      "source": [
        "#include <bits/stdc++.h>\n",
        "using namespace std;\n",
        "int main(){\n",
        "\tint xa,xb,ya,yb,aa,ab,ba,bb,ca,cb,n,max=0,total=0;\n",
        "\n",
        "\tcin>>aa>>ba>>ca;\n",
        "\tcin>>ab>>bb>>cb;\n",
        "\tcin>>n;\n",
        "\tfor(int i=0;i<=n;i++){\n",
        "\t\txa=i;\n",
        "\t\txb=n-i;\n",
        "\t\tya=xa*xa*aa+ba*xa+ca;\n",
        "\t\tyb=xb*xb*ab+bb*xb+cb;\n",
        "\t\ttotal=ya+yb;\n",
        "\t\tif(i==0){\n",
        "\t\t\tmax=total;\n",
        "\t\t}\n",
        "\t\telse if(total>max){\n",
        "\t\t\tmax=total;\n",
        "\t\t}\n",
        "\t}\n",
        "\tcout<<max;\n",
        "\treturn 0;\n",
        "}\n"
      ],
      "metadata": {
        "id": "cjorfO3KE5Hx"
      },
      "execution_count": null,
      "outputs": []
    },
    {
      "cell_type": "markdown",
      "source": [
        "#完成\n",
        "**TOIP 202311-b2 書房 (Study)**\n",
        "\n",
        "m582. 書房 (Study)https://zerojudge.tw/ShowProblem?problemid=m582"
      ],
      "metadata": {
        "id": "y3O-PwBOLzl_"
      }
    },
    {
      "cell_type": "markdown",
      "source": [
        "70% 前幾測試值輸出0行"
      ],
      "metadata": {
        "id": "OxOO4L0GZjkP"
      }
    },
    {
      "cell_type": "code",
      "source": [
        "#include <bits/stdc++.h>\n",
        "using namespace std;\n",
        "int main(){\n",
        "\tint N,M,i,count=1;\n",
        "\tcin>>N>>M;\n",
        "\tint a[N+5];\n",
        "\tfor(i=1;i<=N;i++){\n",
        "\t\tcin>>a[i];\n",
        "\t}\n",
        "\twhile(count<M){\n",
        "\tfor(i=1;i<=N+1;i++){\n",
        "\t\tif(a[i]==count){\n",
        "\t\t\t//cout<<a[i]<<\"==\"<<count<<endl;\n",
        "\t\t\tcout<<i<<\" \";\n",
        "\t\t\ti=0;\n",
        "\t\t\tcount=count+1;\n",
        "\n",
        "\t\t}\n",
        "\t\t//else{\n",
        "\t\t\t//cout<<\"i=\"<<i<<endl;\n",
        "\t\t\t//cout<<a[i]<<\"!=\"<<count<<endl;\n",
        "\t\t//}\n",
        "\n",
        "\t}\n",
        "\t}\n",
        "\n",
        "\treturn 0;\n",
        "\n",
        "}\n"
      ],
      "metadata": {
        "id": "OuV0lx6GLzrP"
      },
      "execution_count": null,
      "outputs": []
    },
    {
      "cell_type": "markdown",
      "source": [
        "AC"
      ],
      "metadata": {
        "id": "HGPnS9tOacE4"
      }
    },
    {
      "cell_type": "code",
      "source": [
        "#include <bits/stdc++.h>\n",
        "using namespace std;\n",
        "int main(){\n",
        "\tint N,M,i,count=1;\n",
        "\tcin>>N>>M;\n",
        "\tint a[N+5];\n",
        "\tfor(i=1;i<=N;i++){\n",
        "\t\tcin>>a[i];\n",
        "\t}\n",
        "\tif(M==1){\n",
        "\t\tfor(i=1;i<=N+1;i++){\n",
        "\t\t\tif(a[i]==1){\n",
        "\t\t\t\t//cout<<a[i]<<\"==\"<<count<<endl;\n",
        "\t\t\t\tcout<<i<<\" \";\n",
        "\t\t\t}\n",
        "\t\t}\n",
        "\t}\n",
        "\telse{\n",
        "\t\twhile(count<M){\n",
        "\t\t\tfor(i=1;i<=N+1;i++){\n",
        "\t\t\t\tif(a[i]==count){\n",
        "\t\t\t\t\t//cout<<a[i]<<\"==\"<<count<<endl;\n",
        "\t\t\t\t\tcout<<i<<\" \";\n",
        "\t\t\t\t\ti=0;\n",
        "\t\t\t\t\tcount=count+1;\n",
        "\n",
        "\t\t\t\t}\n",
        "\t\t\t\t//else{\n",
        "\t\t\t\t\t//cout<<\"i=\"<<i<<endl;\n",
        "\t\t\t\t\t//cout<<a[i]<<\"!=\"<<count<<endl;\n",
        "\t\t\t\t//}\n",
        "\n",
        "\t\t\t}\n",
        "\t\t}\n",
        "\t}\n",
        "\n",
        "\n",
        "\treturn 0;\n",
        "\n",
        "}\n"
      ],
      "metadata": {
        "id": "wRuG-qyjabPJ"
      },
      "execution_count": null,
      "outputs": []
    }
  ]
}