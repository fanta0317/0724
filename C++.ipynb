{
  "nbformat": 4,
  "nbformat_minor": 0,
  "metadata": {
    "colab": {
      "provenance": [],
      "authorship_tag": "ABX9TyMoABJi+1UGYfDc3ObdQfeG",
      "include_colab_link": true
    },
    "kernelspec": {
      "name": "python3",
      "display_name": "Python 3"
    },
    "language_info": {
      "name": "python"
    }
  },
  "cells": [
    {
      "cell_type": "markdown",
      "metadata": {
        "id": "view-in-github",
        "colab_type": "text"
      },
      "source": [
        "<a href=\"https://colab.research.google.com/github/fanta0317/0724/blob/main/C%2B%2B.ipynb\" target=\"_parent\"><img src=\"https://colab.research.google.com/assets/colab-badge.svg\" alt=\"Open In Colab\"/></a>"
      ]
    },
    {
      "cell_type": "markdown",
      "source": [
        "#2024/01/30\n",
        "c++"
      ],
      "metadata": {
        "id": "XCGu0komWakS"
      }
    },
    {
      "cell_type": "code",
      "source": [
        "#include <bits/stdc++.h>\n",
        "using namespace std;\n",
        "int main(){\n",
        "\treturn 0;\n",
        "}\n"
      ],
      "metadata": {
        "id": "KwsTWJ5HW1F_"
      },
      "execution_count": null,
      "outputs": []
    },
    {
      "cell_type": "markdown",
      "source": [
        "\n",
        "#完成\n",
        "遞迴----相加"
      ],
      "metadata": {
        "id": "Prir5xF7Wggx"
      }
    },
    {
      "cell_type": "code",
      "source": [],
      "metadata": {
        "id": "F-2swVlPGbZZ"
      },
      "execution_count": null,
      "outputs": []
    },
    {
      "cell_type": "code",
      "source": [
        "#include <bits/stdc++.h>\n",
        "using namespace std;\n",
        "int f1(int x){\n",
        "\tif(x==1){\n",
        "\t\treturn 1;\n",
        "\t}\n",
        "\treturn f1(x-1)+x;\n",
        "\n",
        "}\n",
        "int main(){\n",
        "\tint a;\n",
        "\n",
        "\tcin>>a;\n",
        "\tcout<<f1(a);\n",
        "\n",
        "\n",
        "}"
      ],
      "metadata": {
        "colab": {
          "base_uri": "https://localhost:8080/",
          "height": 144
        },
        "id": "RsG_URRtWd0A",
        "outputId": "3386042b-7d67-4439-e0aa-43e779092e79"
      },
      "execution_count": null,
      "outputs": [
        {
          "output_type": "error",
          "ename": "SyntaxError",
          "evalue": "invalid syntax (<ipython-input-1-d9b9a7130f0d>, line 2)",
          "traceback": [
            "\u001b[0;36m  File \u001b[0;32m\"<ipython-input-1-d9b9a7130f0d>\"\u001b[0;36m, line \u001b[0;32m2\u001b[0m\n\u001b[0;31m    using namespace std;\u001b[0m\n\u001b[0m          ^\u001b[0m\n\u001b[0;31mSyntaxError\u001b[0m\u001b[0;31m:\u001b[0m invalid syntax\n"
          ]
        }
      ]
    },
    {
      "cell_type": "markdown",
      "source": [
        "#完成\n",
        "排序\n",
        "https://zerojudge.tw/ShowProblem?problemid=a104"
      ],
      "metadata": {
        "id": "2DqfundXW8Pw"
      }
    },
    {
      "cell_type": "code",
      "source": [
        "#錯誤\n",
        "#include <bits/stdc++.h>\n",
        "using namespace std;\n",
        "int main(){\n",
        "\tint min=999999999999999999999999,k[1005]={0},i,a,j,wait1,r[1005]={0},count=0,l,lowest=-1;\n",
        "\twhile(cin>>a){\n",
        "\t\tfor (i=0;i<a;i++){\n",
        "\t\t\tcin>>k[i];\n",
        "\t\t}\n",
        "\t\tfor (j=0;j<a;j++){\n",
        "\t\t\tif(k[j]<min and k[j]>=lowest){\n",
        "\t\t\t\tmin=k[j];\n",
        "\t\t\t\tr[count]=min;\n",
        "\t\t\t\tcount=count+1;\n",
        "\t\t\t\tlowest=min;\n",
        "\t\t\t\tmin=999999999999999999999999;\n",
        "\n",
        "\t\t\t}\n",
        "\t\t}\n",
        "\t\tfor (l=0;l<a;l++){\n",
        "\t\t\tcout<<r[l];\n",
        "\n",
        "\t}\n",
        "}\n",
        "\n",
        "\n",
        "\n",
        "\treturn 0;\n",
        "}\n"
      ],
      "metadata": {
        "id": "TvLHohtEW8bQ"
      },
      "execution_count": null,
      "outputs": []
    },
    {
      "cell_type": "markdown",
      "source": [
        "成功"
      ],
      "metadata": {
        "id": "jx54kb9FZwAo"
      }
    },
    {
      "cell_type": "code",
      "source": [
        "#include <bits/stdc++.h>\n",
        "using namespace std;\n",
        "int main(){\n",
        "\tint min=999999999999999999999999,k[1005]={0},i,a,j,wait1,r[1005]={0},count=0,l,lowest=-1;\n",
        "\twhile(cin>>a){\n",
        "\t\tfor (i=0;i<a;i++){\n",
        "\t\t\tcin>>k[i];\n",
        "\t\t}\n",
        "\t\tsort(k,k+a);\n",
        "\n",
        "\t\tfor (j=0;j<a;j++){\n",
        "\t\t\tcout<<k[j]<<\" \";\n",
        "\n",
        "\t\t}\n",
        "\t\tcout<<endl;\n",
        "}\n",
        "\n",
        "\n",
        "\n",
        "\treturn 0;\n",
        "}\n"
      ],
      "metadata": {
        "id": "eBQqm8i_ZviI"
      },
      "execution_count": null,
      "outputs": []
    },
    {
      "cell_type": "markdown",
      "source": [
        "#未完成\n",
        "Max\n",
        "https://zerojudge.tw/ShowProblem?problemid=c435"
      ],
      "metadata": {
        "id": "8aSQEpJKXBSn"
      }
    },
    {
      "cell_type": "markdown",
      "source": [
        "**錯誤**"
      ],
      "metadata": {
        "id": "Oi-Q6m_dfFjJ"
      }
    },
    {
      "cell_type": "code",
      "source": [
        "#include <bits/stdc++.h>\n",
        "using namespace std;\n",
        "int main(){\n",
        "\tint a[100005],n,i,j,k,ans;\n",
        "\tcin>>n;\n",
        "\tfor (k=0;k<n;k++){\n",
        "\t\tcin>>a[k];\n",
        "\t}\n",
        "\tint max=a[0];\n",
        "\tfor (i=0;i<n;i++){\n",
        "\t\tif (a[i] > max){\n",
        "\t\t\tmax = a[i];\n",
        "\t\t}\n",
        "\t}\n",
        "\tint min=a[0];\n",
        "\tfor (j=0;j<n;j++){\n",
        "\t\tif (a[i] < min){\n",
        "\t\t\tmin = a[j];\n",
        "\t\t}\n",
        "\n",
        "\t}\n",
        "\tans=max-min;\n",
        "\tcout<<ans;\n",
        "\treturn 0;\n",
        "}\n"
      ],
      "metadata": {
        "id": "VEtZTzruZ7WJ"
      },
      "execution_count": null,
      "outputs": []
    },
    {
      "cell_type": "markdown",
      "source": [
        "#完成\n",
        "F91\n",
        "https://zerojudge.tw/ShowProblem?problemid=c002"
      ],
      "metadata": {
        "id": "IZVXdT3pfaOZ"
      }
    },
    {
      "cell_type": "code",
      "source": [
        "#include <bits/stdc++.h>\n",
        "using namespace std;\n",
        "int f91(int N){\n",
        "\n",
        "\tif (N>=101){\n",
        "\t\treturn N-10;\n",
        "\t}\n",
        "\telse{\n",
        "\t\treturn f91(f91(N+11));\n",
        "\t}\n",
        "}\n",
        "\n",
        "\n",
        "int main(){\n",
        "\tint N=1;\n",
        "\twhile(N!=0){\n",
        "\tcin>>N;\n",
        "\tif(N==0){\n",
        "\t\treturn 0;\n",
        "\t}\n",
        "\tcout<<\"f91(\"<<N<<\") = \"<<f91(N);\n",
        "\tcout<<endl;\n",
        "\t}\n",
        "\treturn 0;\n",
        "}\n"
      ],
      "metadata": {
        "id": "3EfGnkkAfeMf"
      },
      "execution_count": null,
      "outputs": []
    },
    {
      "cell_type": "markdown",
      "source": [
        "#完成\n",
        "遞迴練習\n",
        "https://zerojudge.tw/ShowProblem?problemid=e357"
      ],
      "metadata": {
        "id": "MyvWfGt-iDKp"
      }
    },
    {
      "cell_type": "code",
      "source": [
        "#include <bits/stdc++.h>\n",
        "using namespace std;\n",
        "int F(int x){\n",
        "\tif(x==1){\n",
        "\t\treturn 1;\n",
        "\t}\n",
        "\telse if(x%2==0){\n",
        "\t\treturn F(x/2);\n",
        "\t}\n",
        "\telse{\n",
        "\t\treturn F(x-1)+F(x+1);\n",
        "\t}\n",
        "}\n",
        "\n",
        "\n",
        "int main(){\n",
        "\tint N;\n",
        "\tcin>>N;\n",
        "\tcout<<F(N);\n",
        "\treturn 0;\n",
        "}\n"
      ],
      "metadata": {
        "id": "RL1pbS14iHoZ"
      },
      "execution_count": null,
      "outputs": []
    },
    {
      "cell_type": "markdown",
      "source": [
        "#未完成\n",
        "共同的數\n",
        "https://zerojudge.tw/ShowProblem?problemid=d478\n"
      ],
      "metadata": {
        "id": "rjMVcvdMjGeq"
      }
    },
    {
      "cell_type": "markdown",
      "source": [
        "未完成"
      ],
      "metadata": {
        "id": "YhvXA0l7nfOb"
      }
    },
    {
      "cell_type": "code",
      "source": [
        "#include <bits/stdc++.h>\n",
        "using namespace std;\n",
        "int main(){\n",
        "\tint i,n,m,a[10025],b[10025],j,k,a_counter=0,b_counter=0,count=0;\n",
        "\tcin>>n>>m;\n",
        "\tfor(i=0;i<n;i++){\n",
        "\t\t//cout<<i;\n",
        "\t\tfor(j=0;j<m;j++){\n",
        "\t\t\tcin>>a[j];\n",
        "\t\t}\n",
        "\t\tfor(k=0;k<m;k++){\n",
        "\t\t\tcin>>b[k];\n",
        "\t\t}\n",
        "\t\twhile(a_counter!=m and b_counter!=m){\n",
        "\t\t\tif (a_counter==m and b_counter!= m){\n",
        "\t\t\t\tb_counter+=1;\n",
        "\t\t\t}\n",
        "\t\t\tif(a[a_counter]>b[b_counter]){\n",
        "\t\t\t\tb_counter=b_counter+1;\n",
        "\t\t\t}\n",
        "\t\t\telse if(a[a_counter]<b[b_counter]){\n",
        "\t\t\t\ta_counter=a_counter+1;\n",
        "\t\t\t}\n",
        "\t\t\telse{\n",
        "\t\t\t\tcount=count+1;\n",
        "\t\t\t}\n",
        "\n",
        "\n",
        "\t\t}\n",
        "\t\tcout<<count;\n",
        "\t}\n",
        "\treturn 0;\n",
        "}\n"
      ],
      "metadata": {
        "id": "T_AxalpwjNEb"
      },
      "execution_count": null,
      "outputs": []
    },
    {
      "cell_type": "markdown",
      "source": [
        "#完成\n",
        "c813. 11332 - Summing Digits\n",
        "https://zerojudge.tw/ShowProblem?problemid=c813"
      ],
      "metadata": {
        "id": "iUSgJCHM9Lfv"
      }
    },
    {
      "cell_type": "code",
      "source": [
        "#include <bits/stdc++.h>\n",
        "using namespace std;\n",
        "int f(int x){\n",
        "\tlong long int check=10,total=0;\n",
        "\tif(x<10){\n",
        "\t\treturn x;\n",
        "\t}\n",
        "\telse{\n",
        "\t\t//cout<<\"x/10=\"<<x/10<<endl;\n",
        "\t\ttotal=x%10+total;\n",
        "\t\tx=x/10;\n",
        "\t\t//cout<<\"x=\"<<x<<endl;\n",
        "\t}\n",
        "\treturn f(x)+total;\n",
        "\t//return f(x);\n",
        "}\n",
        "int main(){\n",
        "\tlong long int check=10,n=1,s=0;\n",
        "\twhile(n!=0){\n",
        "\t\tcin>>n;\n",
        "\t\tif(n==0){\n",
        "\t\t\tbreak;\n",
        "\t\t}\n",
        "\t\ts=f(n);\n",
        "\t\twhile(s>=10){\n",
        "\t\t\ts=f(s);\n",
        "\t\t}\n",
        "\t\tcout<<s<<endl;\n",
        "\t}\n",
        "\treturn 0;\n",
        "}"
      ],
      "metadata": {
        "id": "pq1Ja_Ym9pc9"
      },
      "execution_count": null,
      "outputs": []
    },
    {
      "cell_type": "markdown",
      "source": [
        "#未完成\n",
        "d044. 00640 - Self Numbers\n",
        "https://zerojudge.tw/ShowProblem?problemid=d044\n",
        "\n"
      ],
      "metadata": {
        "id": "dSwwFxBlSl-I"
      }
    },
    {
      "cell_type": "code",
      "source": [
        "#錯誤\n",
        "\n",
        "#include <bits/stdc++.h>\n",
        "using namespace std;\n",
        "int sn(int x){\n",
        "\tint check=10,total=0;\n",
        "\tif(x<10){\n",
        "\t\treturn x;\n",
        "\t}\n",
        "\telse{\n",
        "\t\ttotal=x%10+total;\n",
        "\t\tx=x/10;\n",
        "\t}\n",
        "\treturn sn(x)+total;\n",
        "}\n",
        "int main(){\n",
        "\tint num=1;\n",
        "\twhile(num!=1000001){\n",
        "\t\tif(num>1000000){\n",
        "\t\t\tbreak ;\n",
        "\t\t}\n",
        "\t\tif(num==sn(num)){\n",
        "\t\t\tcout<<num<<endl;\n",
        "\t\t}\n",
        "\t\tnum=num+1;\n",
        "}\n",
        "\treturn 0;\n",
        "}\n"
      ],
      "metadata": {
        "id": "sS_UM_nWVL43"
      },
      "execution_count": null,
      "outputs": []
    },
    {
      "cell_type": "code",
      "source": [
        "#他人解\n",
        "#include <iostream>\n",
        "using namespace std;\n",
        "int num[1000001]={0};\n",
        "int main(){\n",
        "  int next,j;\n",
        "  for(int i=1;i<=1000000;i++){\n",
        "    j=i;\n",
        "    if (num[j] == 0){\n",
        "      while(1){\n",
        "        next=j;\n",
        "        while(j>0){\n",
        "          next+=j%10;\n",
        "          j=j/10;\n",
        "        }\n",
        "        if ((next <=1000000)&&(num[next]==0)) {\n",
        "          num[next]=1;\n",
        "          j=next;\n",
        "        }\n",
        "        else break;\n",
        "      }\n",
        "    }\n",
        "  }\n",
        "  for(int i=1;i<=1000000;i++){\n",
        "      if (num[i]==0) cout <<  i<<endl;\n",
        "  }\n",
        "}"
      ],
      "metadata": {
        "id": "KqjFo_-hhjEr"
      },
      "execution_count": null,
      "outputs": []
    },
    {
      "cell_type": "markdown",
      "source": [
        "#未完成\n",
        "e340. 差分練習https://zerojudge.tw/ShowProblem?problemid=e340\n"
      ],
      "metadata": {
        "id": "CK8U6lhNVpta"
      }
    },
    {
      "cell_type": "code",
      "source": [
        "#include <bits/stdc++.h>\n",
        "using namespace std;\n",
        "int main(){\n",
        "\tint x=1,a[200005],b[200005];\n",
        "\tcin>>x;\n",
        "\tfor(i=0;i<x;i++){\n",
        "\n",
        "\t}\n",
        "\n",
        "\n",
        "\treturn 0;\n",
        "}\n"
      ],
      "metadata": {
        "id": "5Un_jJ-epnoE"
      },
      "execution_count": null,
      "outputs": []
    },
    {
      "cell_type": "markdown",
      "source": [
        "\n",
        "#完成\n",
        "m581. 狼人殺 (Werewolves)https://zerojudge.tw/ShowProblem?problemid=m581"
      ],
      "metadata": {
        "id": "7YQuUPCwpqK0"
      }
    },
    {
      "cell_type": "code",
      "source": [
        "#include <bits/stdc++.h>\n",
        "using namespace std;\n",
        "int main(){\n",
        "\tint player[20],n,d=1,count=0,wrong=0;\n",
        "\tcin>>n;\n",
        "\tfor(int i=1;i<=n;i++){\n",
        "\t\tcin>>player[i];\n",
        "\t}\n",
        "\n",
        "\t//for(int i=0;i<n;i++){\n",
        "\t//\tcout<<\"player\"<<i<<\"=\"<<player[i];\n",
        "\t//}\n",
        "\twhile(d!=0){\n",
        "\t\tcin>>d;\n",
        "\t\tif(player[d]!=4){\n",
        "\t\t\tplayer[d]=4;\n",
        "\t\t}\n",
        "\t\telse{\n",
        "\t\t\t//cout<<\"Wrong\";\n",
        "\t\t\twrong=1;\n",
        "\t\t\tbreak;\n",
        "\t\t}\n",
        "\n",
        "\t}\n",
        "\tfor(int i=1;i<=n;i++){\n",
        "\t\tif(player[i]==-1){\n",
        "\t\t\tcount=1;\n",
        "\t\t}\n",
        "\t}\n",
        "\tif(count==0&&wrong==0){\n",
        "\t\tcout<<\"Townsfolk\";\n",
        "\t}\n",
        "\telse if(count==1&&wrong==0){\n",
        "\t\tcout<<\"Werewolves\";\n",
        "\t}\n",
        "\telse{\n",
        "\t\tcout<<\"Wrong\";\n",
        "\t}\n",
        "\n",
        "\treturn 0;\n",
        "}\n"
      ],
      "metadata": {
        "id": "IF5CFar_pvxL"
      },
      "execution_count": null,
      "outputs": []
    },
    {
      "cell_type": "markdown",
      "source": [
        "#完成\n",
        "a059. 完全平方和https://zerojudge.tw/ShowProblem?problemid=a059"
      ],
      "metadata": {
        "id": "kBbJ1s-VG44F"
      }
    },
    {
      "cell_type": "code",
      "source": [
        "#include <bits/stdc++.h>\n",
        "using namespace std;\n",
        "int main(){\n",
        "\tint t,a,b,j,sq[40],total=0,count=0;\n",
        "\tsq[0]=-1;\n",
        "\tfor(j=1;j<=31;j++){\n",
        "\t\tsq[j]=j*j;\n",
        "\t\t//cout<<sq[j]<<endl;\n",
        "\t}\n",
        "\tcin>>t;\n",
        "\tfor(int i=1;i<=t;i++){\n",
        "\t\tcin>>a>>b;\n",
        "\t\ttotal=0;\n",
        "\t\tfor(j=1;j<=31;j++){\n",
        "\t\t\tif(sq[j]>=a and sq[j]<b){\n",
        "\t\t\t\ttotal=sq[j]+total;\n",
        "\t\t\t\t//cout<<\"total=\"<<total<<endl;\n",
        "\t\t}\n",
        "\t\t\t//cout<<sq[j]<<endl;\n",
        "\t}\n",
        "\t\tcount=count+1;\n",
        "\t\tcout<<\"Case \"<<count<<\": \"<<total<<endl;\n",
        "}\n",
        "\n",
        "\n",
        "\n",
        "\treturn 0;\n",
        "}\n"
      ],
      "metadata": {
        "id": "9PZbqhS0HAI5"
      },
      "execution_count": null,
      "outputs": []
    },
    {
      "cell_type": "markdown",
      "source": [
        "#完成\n",
        "a022. 迴文https://zerojudge.tw/ShowProblem?problemid=a022\n"
      ],
      "metadata": {
        "id": "iBLJwiJjKmUy"
      }
    },
    {
      "cell_type": "code",
      "source": [
        "//reverse解法\n",
        "#include <bits/stdc++.h>\n",
        "using namespace std;\n",
        "int main(){\n",
        "\tstring restr,str;\n",
        "\tcin>>restr;\n",
        "\tstr=restr;\n",
        "\treverse(restr.begin(), restr.end());\n",
        "\tif (str==restr){\n",
        "\t\tcout<<\"yes\";\n",
        "\t}\n",
        "\telse{\n",
        "\t\tcout<<\"no\";\n",
        "\t}\n",
        "\treturn 0;\n",
        "}\n"
      ],
      "metadata": {
        "id": "rj3GUKkRLwgZ"
      },
      "execution_count": null,
      "outputs": []
    },
    {
      "cell_type": "markdown",
      "source": [
        "#未完成\n",
        "a215. 明明愛數數https://zerojudge.tw/ShowProblem?problemid=a215"
      ],
      "metadata": {
        "id": "3c-Ew8CUNocG"
      }
    },
    {
      "cell_type": "markdown",
      "source": [
        "錯誤"
      ],
      "metadata": {
        "id": "u6K-JkpAPnaY"
      }
    },
    {
      "cell_type": "code",
      "source": [
        "#include <bits/stdc++.h>\n",
        "using namespace std;\n",
        "int main(){\n",
        "\tint n,m,count=0,total=0;\n",
        "\twhile(cin>>n>>m){\n",
        "\t\tcount=0;\n",
        "\t\ttotal=0;\n",
        "\t\twhile(total<m){\n",
        "\t\t\tcount=count+1;\n",
        "\t\t\ttotal=n+count+total;\n",
        "\t\t\t//cout<<\"total=\"<<total<<endl;\n",
        "\t\t}\n",
        "\t\tif(total==m){\n",
        "\t\t\tcount=count+1;\n",
        "\t\t}\n",
        "\t\tcout<<count<<endl;\n",
        "\t}\n",
        "\treturn 0;\n",
        "}\n"
      ],
      "metadata": {
        "id": "7DMiV40wNv4p"
      },
      "execution_count": null,
      "outputs": []
    },
    {
      "cell_type": "markdown",
      "source": [
        "試圖if m為負數但一樣"
      ],
      "metadata": {
        "id": "EDqfFF49Qw-w"
      }
    },
    {
      "cell_type": "code",
      "source": [
        "#include <bits/stdc++.h>\n",
        "using namespace std;\n",
        "int main(){\n",
        "\tint n,m,count=0,total=0;\n",
        "\twhile(cin>>n>>m){\n",
        "\t\tcount=0;\n",
        "\t\ttotal=0;\n",
        "\t\tif(m>0){\n",
        "\t\t\twhile(total<m){\n",
        "\t\t\t\tcount=count+1;\n",
        "\t\t\t\ttotal=n+count+total;\n",
        "\t\t\t\t//cout<<\"total=\"<<total<<endl;\n",
        "\t\t\t}\n",
        "\t\t}\n",
        "\t\telse{\n",
        "\t\t\twhile(total>m){\n",
        "\t\t\t\tcount=count+1;\n",
        "\t\t\t\ttotal=n+count+total;\n",
        "\t\t\t\t//cout<<\"total=\"<<total<<endl;\n",
        "\t\t\t}\n",
        "\t\t}\n",
        "\t\tif(total==m){\n",
        "\t\t\tcount=count+1;\n",
        "\t\t}\n",
        "\t\tcout<<count<<endl;\n",
        "\t}\n",
        "\treturn 0;\n",
        "}\n"
      ],
      "metadata": {
        "id": "rbnfwND3Q1wo"
      },
      "execution_count": null,
      "outputs": []
    },
    {
      "cell_type": "markdown",
      "source": [
        "#完成\n",
        "b884. 電腦教室的傑克\n",
        "https://zerojudge.tw/ShowProblem?problemid=b884"
      ],
      "metadata": {
        "id": "bC73DichTFZH"
      }
    },
    {
      "cell_type": "code",
      "source": [
        "#include <bits/stdc++.h>\n",
        "using namespace std;\n",
        "int main(){\n",
        "\tint n,yee;\n",
        "\tdouble x,y,r;\n",
        "\tcin>>n;\n",
        "\tfor(int i=0;i<n;i++){\n",
        "\t\tcin>>x>>y;\n",
        "\t\tr=sqrt(x+y);\n",
        "\t\t//r=sqrt(x)+y;\n",
        "\t\tyee=100-r*r;\n",
        "\t\t//cout<<\"r=\"<<r<<endl;\n",
        "\t\t//cout<<\"yee=\"<<yee<<endl;\n",
        "\t\tif(yee<=30 and yee>0){\n",
        "\t\t\tcout<<\"sad!\"<<endl;\n",
        "\t\t}\n",
        "\t\telse if(yee>60 and yee<100){\n",
        "\t\t\tcout<<\"Happyyummy\"<<endl;\n",
        "\t\t}\n",
        "\t\telse if(yee>30 and yee<=60){\n",
        "\t\t\tcout<<\"hmm~~\"<<endl;\n",
        "\t\t}\n",
        "\t\telse{\n",
        "\t\t\tcout<<\"evil!!\"<<endl;\n",
        "\t\t}\n",
        "\t}\n",
        "\treturn 0;\n",
        "}\n"
      ],
      "metadata": {
        "id": "1Sg8ypHXTO1_"
      },
      "execution_count": null,
      "outputs": []
    },
    {
      "cell_type": "markdown",
      "source": [
        "#完成\n",
        "d570. 神龍見首不見尾\n",
        "https://zerojudge.tw/ShowProblem?problemid=d570"
      ],
      "metadata": {
        "id": "XAN3GOi0Yncf"
      }
    },
    {
      "cell_type": "code",
      "source": [
        "#include <bits/stdc++.h>\n",
        "using namespace std;\n",
        "int main(){\n",
        "\tint num;\n",
        "\tcin>>num;\n",
        "\twhile(num>=1){\n",
        "\t\tcout<<num<<endl;\n",
        "\t\tnum=num/10;\n",
        "\t}\n",
        "\treturn 0;\n",
        "}\n"
      ],
      "metadata": {
        "id": "8hO9ZwYqYntU"
      },
      "execution_count": null,
      "outputs": []
    },
    {
      "cell_type": "markdown",
      "source": [
        "#完成\n",
        "d010. 盈數、虧數和完全數https://zerojudge.tw/ShowProblem?problemid=d010"
      ],
      "metadata": {
        "id": "_b7C7pkRYzQV"
      }
    },
    {
      "cell_type": "code",
      "source": [
        "#include <bits/stdc++.h>\n",
        "using namespace std;\n",
        "int main(){\n",
        "\tint n,i,j,total=0,num;\n",
        "\twhile(cin>>n){\n",
        "\n",
        "\t\t//cin>>n;\n",
        "\t\tnum=n;\n",
        "\t\ttotal=0;\n",
        "\t\tfor(i=1;i<=n;i++){\n",
        "\t\t\tif(num%i==0){\n",
        "\t\t\t\t//cout<<i<<endl;\n",
        "\t\t\t\ttotal=total+i;\n",
        "\t\t\t}\n",
        "\t\t}\n",
        "\t\ttotal=total-num;\n",
        "\t\t//cout<<total;\n",
        "\t\tif(total>n){\n",
        "\t\t\tcout<<\"盈數\"<<endl;\n",
        "\t\t}\n",
        "\t\telse if(total<n){\n",
        "\t\t\tcout<<\"虧數\"<<endl;\n",
        "\t\t}\n",
        "\t\telse{\n",
        "\t\t\tcout<<\"完全數\"<<endl;\n",
        "\t\t}\n",
        "}\n",
        "\n",
        "\treturn 0;\n",
        "}\n"
      ],
      "metadata": {
        "id": "WMchZKUeYzaE"
      },
      "execution_count": null,
      "outputs": []
    }
  ]
}