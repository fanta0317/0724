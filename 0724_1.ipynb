{
  "nbformat": 4,
  "nbformat_minor": 0,
  "metadata": {
    "colab": {
      "provenance": [],
      "authorship_tag": "ABX9TyP4D4f5WyWsQdYwavx1bEwi",
      "include_colab_link": true
    },
    "kernelspec": {
      "name": "python3",
      "display_name": "Python 3"
    },
    "language_info": {
      "name": "python"
    }
  },
  "cells": [
    {
      "cell_type": "markdown",
      "metadata": {
        "id": "view-in-github",
        "colab_type": "text"
      },
      "source": [
        "<a href=\"https://colab.research.google.com/github/fanta0317/0724/blob/main/0724_1.ipynb\" target=\"_parent\"><img src=\"https://colab.research.google.com/assets/colab-badge.svg\" alt=\"Open In Colab\"/></a>"
      ]
    },
    {
      "cell_type": "code",
      "execution_count": 1,
      "metadata": {
        "colab": {
          "base_uri": "https://localhost:8080/"
        },
        "id": "6C1lJVf8qn0w",
        "outputId": "8adbf941-0a00-4324-bee6-a09f5071631e"
      },
      "outputs": [
        {
          "output_type": "stream",
          "name": "stdout",
          "text": [
            "我的第一支python檔案\n"
          ]
        }
      ],
      "source": [
        "print(\"我的第一支python檔案\")"
      ]
    },
    {
      "cell_type": "markdown",
      "source": [
        "#大標題\n"
      ],
      "metadata": {
        "id": "M-NS5K8Tr9qb"
      }
    },
    {
      "cell_type": "markdown",
      "source": [
        "##次標題"
      ],
      "metadata": {
        "id": "tD1nrqNysBhq"
      }
    },
    {
      "cell_type": "code",
      "source": [
        "#mark down"
      ],
      "metadata": {
        "id": "oQAy6z4UsG8q"
      },
      "execution_count": null,
      "outputs": []
    },
    {
      "cell_type": "code",
      "source": [
        "a=20\n",
        "print(a)"
      ],
      "metadata": {
        "colab": {
          "base_uri": "https://localhost:8080/"
        },
        "id": "_LwQwWE7300P",
        "outputId": "94312317-e75c-41a5-bb40-52f36f7838af"
      },
      "execution_count": 2,
      "outputs": [
        {
          "output_type": "stream",
          "name": "stdout",
          "text": [
            "20\n"
          ]
        }
      ]
    },
    {
      "cell_type": "code",
      "source": [
        "b=a\n",
        "print(b)"
      ],
      "metadata": {
        "colab": {
          "base_uri": "https://localhost:8080/"
        },
        "id": "HocoDRn533X_",
        "outputId": "8140e16a-dbea-42fb-ad25-0a4401e39a6b"
      },
      "execution_count": 3,
      "outputs": [
        {
          "output_type": "stream",
          "name": "stdout",
          "text": [
            "20\n"
          ]
        }
      ]
    },
    {
      "cell_type": "code",
      "source": [
        "print(a,b)"
      ],
      "metadata": {
        "colab": {
          "base_uri": "https://localhost:8080/"
        },
        "id": "VoQTcqDK4bXv",
        "outputId": "679b6643-138b-4e43-f942-66c27f77b9d4"
      },
      "execution_count": 4,
      "outputs": [
        {
          "output_type": "stream",
          "name": "stdout",
          "text": [
            "20 20\n"
          ]
        }
      ]
    },
    {
      "cell_type": "code",
      "source": [
        "age,name=16,\"Lucas\"\n",
        "(age,name)"
      ],
      "metadata": {
        "colab": {
          "base_uri": "https://localhost:8080/"
        },
        "id": "efxhwrfX4drd",
        "outputId": "76b72195-8d60-48d0-dd65-259388b0ba3c"
      },
      "execution_count": 5,
      "outputs": [
        {
          "output_type": "execute_result",
          "data": {
            "text/plain": [
              "(16, 'Lucas')"
            ]
          },
          "metadata": {},
          "execution_count": 5
        }
      ]
    },
    {
      "cell_type": "code",
      "source": [
        "c=d=e=f=50\n",
        "print(c+d+e+f)\n",
        "(c,d,e,f)"
      ],
      "metadata": {
        "colab": {
          "base_uri": "https://localhost:8080/"
        },
        "id": "-CFqK4sO4nyt",
        "outputId": "c0166879-5fa4-4596-a442-a51ecb780453"
      },
      "execution_count": 6,
      "outputs": [
        {
          "output_type": "stream",
          "name": "stdout",
          "text": [
            "200\n"
          ]
        },
        {
          "output_type": "execute_result",
          "data": {
            "text/plain": [
              "(50, 50, 50, 50)"
            ]
          },
          "metadata": {},
          "execution_count": 6
        }
      ]
    },
    {
      "cell_type": "code",
      "source": [
        "a=b=c=d=e=f=10\n",
        "print(a,b,c,d,e,f)"
      ],
      "metadata": {
        "colab": {
          "base_uri": "https://localhost:8080/"
        },
        "id": "v8W8ZYYy4zVM",
        "outputId": "8ff0b718-8d17-4f42-91d5-3d8696b4259f"
      },
      "execution_count": 7,
      "outputs": [
        {
          "output_type": "stream",
          "name": "stdout",
          "text": [
            "10 10 10 10 10 10\n"
          ]
        }
      ]
    },
    {
      "cell_type": "code",
      "source": [
        "g=h=i=j=k=50\n",
        "G=H=I=J=K=60\n",
        "print(g,h,i,j,k)\n",
        "print(G,H,I,J,K)\n",
        "print(g+h+i+j+k+G+H+I+J+K)"
      ],
      "metadata": {
        "colab": {
          "base_uri": "https://localhost:8080/"
        },
        "id": "FuCbhM8v6IAb",
        "outputId": "e5aadf91-6043-4249-b2cc-6f986960cf1c"
      },
      "execution_count": 9,
      "outputs": [
        {
          "output_type": "stream",
          "name": "stdout",
          "text": [
            "50 50 50 50 50\n",
            "60 60 60 60 60\n",
            "550\n"
          ]
        }
      ]
    },
    {
      "cell_type": "code",
      "source": [
        "l=1\n",
        "#m=2\n",
        "n=3\n",
        "print(l,n)"
      ],
      "metadata": {
        "colab": {
          "base_uri": "https://localhost:8080/"
        },
        "id": "MrS7FGIB7v_o",
        "outputId": "ca293b7f-3d4c-444f-a1e0-30c38a4534ed"
      },
      "execution_count": 10,
      "outputs": [
        {
          "output_type": "stream",
          "name": "stdout",
          "text": [
            "1 3\n"
          ]
        }
      ]
    },
    {
      "cell_type": "code",
      "source": [
        "m"
      ],
      "metadata": {
        "colab": {
          "base_uri": "https://localhost:8080/",
          "height": 169
        },
        "id": "YbfapRHN9B-m",
        "outputId": "246499b3-378c-4499-baa4-e9497870532b"
      },
      "execution_count": 11,
      "outputs": [
        {
          "output_type": "error",
          "ename": "NameError",
          "evalue": "ignored",
          "traceback": [
            "\u001b[0;31m---------------------------------------------------------------------------\u001b[0m",
            "\u001b[0;31mNameError\u001b[0m                                 Traceback (most recent call last)",
            "\u001b[0;32m<ipython-input-11-9a40b379906c>\u001b[0m in \u001b[0;36m<cell line: 1>\u001b[0;34m()\u001b[0m\n\u001b[0;32m----> 1\u001b[0;31m \u001b[0mm\u001b[0m\u001b[0;34m\u001b[0m\u001b[0;34m\u001b[0m\u001b[0m\n\u001b[0m",
            "\u001b[0;31mNameError\u001b[0m: name 'm' is not defined"
          ]
        }
      ]
    },
    {
      "cell_type": "code",
      "source": [
        "l=1\n",
        "m=2\n",
        "n=3\n",
        "print(l,m,n)\n",
        "#單行註解"
      ],
      "metadata": {
        "colab": {
          "base_uri": "https://localhost:8080/"
        },
        "id": "NmAa-dGm9C_2",
        "outputId": "38eb04b8-a0bf-454b-df35-67a4829f2da6"
      },
      "execution_count": 13,
      "outputs": [
        {
          "output_type": "stream",
          "name": "stdout",
          "text": [
            "1 2 3\n"
          ]
        }
      ]
    },
    {
      "cell_type": "code",
      "source": [
        "\"\"\"\n",
        "多行註解\n",
        "多行註解\n",
        "多行註解\n",
        "\"\"\""
      ],
      "metadata": {
        "colab": {
          "base_uri": "https://localhost:8080/",
          "height": 35
        },
        "id": "Znz_g1k29unF",
        "outputId": "272f4a1e-8726-4bd0-fda9-73cef2d08f0f"
      },
      "execution_count": 15,
      "outputs": [
        {
          "output_type": "execute_result",
          "data": {
            "text/plain": [
              "'\\n多行註解\\n多行註解\\n多行註解\\n'"
            ],
            "application/vnd.google.colaboratory.intrinsic+json": {
              "type": "string"
            }
          },
          "metadata": {},
          "execution_count": 15
        }
      ]
    },
    {
      "cell_type": "code",
      "source": [
        "str1=\"這是第一個字串\"\n",
        "str2=\"這是第二個字串\""
      ],
      "metadata": {
        "id": "wdqlP3Er-BYj"
      },
      "execution_count": 16,
      "outputs": []
    },
    {
      "cell_type": "code",
      "source": [
        "print(str1)\n",
        "print(str2)"
      ],
      "metadata": {
        "colab": {
          "base_uri": "https://localhost:8080/"
        },
        "id": "oQ43hAwq_nvc",
        "outputId": "e4bf5dc8-2f6d-4e98-b6fd-bf5a3410bc00"
      },
      "execution_count": 17,
      "outputs": [
        {
          "output_type": "stream",
          "name": "stdout",
          "text": [
            "這是一個字串\n",
            "這是第二個字串\n"
          ]
        }
      ]
    },
    {
      "cell_type": "code",
      "source": [
        "str3=\"瑀哲說:'你好'\"\n",
        "str4='瑀哲說:\"你好\"'\n",
        "print(str3)\n",
        "print(str4)"
      ],
      "metadata": {
        "colab": {
          "base_uri": "https://localhost:8080/"
        },
        "id": "qn2zLMyg_v3w",
        "outputId": "62eaa8ba-a48f-4d17-9d32-8012ab84236a"
      },
      "execution_count": 18,
      "outputs": [
        {
          "output_type": "stream",
          "name": "stdout",
          "text": [
            "瑀哲說:'你好'\n",
            "瑀哲說:\"你好\"\n"
          ]
        }
      ]
    },
    {
      "cell_type": "code",
      "source": [],
      "metadata": {
        "id": "NvBk4LBBAJCh"
      },
      "execution_count": null,
      "outputs": []
    }
  ]
}