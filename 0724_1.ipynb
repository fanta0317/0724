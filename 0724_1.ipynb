{
  "nbformat": 4,
  "nbformat_minor": 0,
  "metadata": {
    "colab": {
      "provenance": [],
      "authorship_tag": "ABX9TyO+93wFexbLR46YgkEDWQw4",
      "include_colab_link": true
    },
    "kernelspec": {
      "name": "python3",
      "display_name": "Python 3"
    },
    "language_info": {
      "name": "python"
    }
  },
  "cells": [
    {
      "cell_type": "markdown",
      "metadata": {
        "id": "view-in-github",
        "colab_type": "text"
      },
      "source": [
        "<a href=\"https://colab.research.google.com/github/fanta0317/0724/blob/main/0724_1.ipynb\" target=\"_parent\"><img src=\"https://colab.research.google.com/assets/colab-badge.svg\" alt=\"Open In Colab\"/></a>"
      ]
    },
    {
      "cell_type": "code",
      "execution_count": 1,
      "metadata": {
        "colab": {
          "base_uri": "https://localhost:8080/"
        },
        "id": "6C1lJVf8qn0w",
        "outputId": "8adbf941-0a00-4324-bee6-a09f5071631e"
      },
      "outputs": [
        {
          "output_type": "stream",
          "name": "stdout",
          "text": [
            "我的第一支python檔案\n"
          ]
        }
      ],
      "source": [
        "print(\"我的第一支python檔案\")"
      ]
    },
    {
      "cell_type": "markdown",
      "source": [
        "#大標題\n"
      ],
      "metadata": {
        "id": "M-NS5K8Tr9qb"
      }
    },
    {
      "cell_type": "markdown",
      "source": [
        "##次標題"
      ],
      "metadata": {
        "id": "tD1nrqNysBhq"
      }
    },
    {
      "cell_type": "code",
      "source": [
        "#mark down"
      ],
      "metadata": {
        "id": "oQAy6z4UsG8q"
      },
      "execution_count": null,
      "outputs": []
    }
  ]
}