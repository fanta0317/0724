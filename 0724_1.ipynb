{
  "nbformat": 4,
  "nbformat_minor": 0,
  "metadata": {
    "colab": {
      "provenance": [],
      "authorship_tag": "ABX9TyMpOORw86Ab9BIJ8bywigCz",
      "include_colab_link": true
    },
    "kernelspec": {
      "name": "python3",
      "display_name": "Python 3"
    },
    "language_info": {
      "name": "python"
    }
  },
  "cells": [
    {
      "cell_type": "markdown",
      "metadata": {
        "id": "view-in-github",
        "colab_type": "text"
      },
      "source": [
        "<a href=\"https://colab.research.google.com/github/fanta0317/0724/blob/main/0724_1.ipynb\" target=\"_parent\"><img src=\"https://colab.research.google.com/assets/colab-badge.svg\" alt=\"Open In Colab\"/></a>"
      ]
    },
    {
      "cell_type": "code",
      "execution_count": null,
      "metadata": {
        "colab": {
          "base_uri": "https://localhost:8080/"
        },
        "id": "6C1lJVf8qn0w",
        "outputId": "8adbf941-0a00-4324-bee6-a09f5071631e"
      },
      "outputs": [
        {
          "output_type": "stream",
          "name": "stdout",
          "text": [
            "我的第一支python檔案\n"
          ]
        }
      ],
      "source": [
        "print(\"我的第一支python檔案\")"
      ]
    },
    {
      "cell_type": "markdown",
      "source": [
        "#大標題\n"
      ],
      "metadata": {
        "id": "M-NS5K8Tr9qb"
      }
    },
    {
      "cell_type": "markdown",
      "source": [
        "##次標題"
      ],
      "metadata": {
        "id": "tD1nrqNysBhq"
      }
    },
    {
      "cell_type": "code",
      "source": [
        "#mark down"
      ],
      "metadata": {
        "id": "oQAy6z4UsG8q"
      },
      "execution_count": null,
      "outputs": []
    },
    {
      "cell_type": "code",
      "source": [
        "a=20\n",
        "print(a)"
      ],
      "metadata": {
        "colab": {
          "base_uri": "https://localhost:8080/"
        },
        "id": "_LwQwWE7300P",
        "outputId": "94312317-e75c-41a5-bb40-52f36f7838af"
      },
      "execution_count": null,
      "outputs": [
        {
          "output_type": "stream",
          "name": "stdout",
          "text": [
            "20\n"
          ]
        }
      ]
    },
    {
      "cell_type": "code",
      "source": [
        "b=a\n",
        "print(b)"
      ],
      "metadata": {
        "colab": {
          "base_uri": "https://localhost:8080/"
        },
        "id": "HocoDRn533X_",
        "outputId": "8140e16a-dbea-42fb-ad25-0a4401e39a6b"
      },
      "execution_count": null,
      "outputs": [
        {
          "output_type": "stream",
          "name": "stdout",
          "text": [
            "20\n"
          ]
        }
      ]
    },
    {
      "cell_type": "code",
      "source": [
        "print(a,b)"
      ],
      "metadata": {
        "colab": {
          "base_uri": "https://localhost:8080/"
        },
        "id": "VoQTcqDK4bXv",
        "outputId": "679b6643-138b-4e43-f942-66c27f77b9d4"
      },
      "execution_count": null,
      "outputs": [
        {
          "output_type": "stream",
          "name": "stdout",
          "text": [
            "20 20\n"
          ]
        }
      ]
    },
    {
      "cell_type": "code",
      "source": [
        "age,name=16,\"Lucas\"\n",
        "(age,name)"
      ],
      "metadata": {
        "colab": {
          "base_uri": "https://localhost:8080/"
        },
        "id": "efxhwrfX4drd",
        "outputId": "76b72195-8d60-48d0-dd65-259388b0ba3c"
      },
      "execution_count": null,
      "outputs": [
        {
          "output_type": "execute_result",
          "data": {
            "text/plain": [
              "(16, 'Lucas')"
            ]
          },
          "metadata": {},
          "execution_count": 5
        }
      ]
    },
    {
      "cell_type": "code",
      "source": [
        "c=d=e=f=50\n",
        "print(c+d+e+f)\n",
        "(c,d,e,f)"
      ],
      "metadata": {
        "colab": {
          "base_uri": "https://localhost:8080/"
        },
        "id": "-CFqK4sO4nyt",
        "outputId": "c0166879-5fa4-4596-a442-a51ecb780453"
      },
      "execution_count": null,
      "outputs": [
        {
          "output_type": "stream",
          "name": "stdout",
          "text": [
            "200\n"
          ]
        },
        {
          "output_type": "execute_result",
          "data": {
            "text/plain": [
              "(50, 50, 50, 50)"
            ]
          },
          "metadata": {},
          "execution_count": 6
        }
      ]
    },
    {
      "cell_type": "code",
      "source": [
        "a=b=c=d=e=f=10\n",
        "print(a,b,c,d,e,f)"
      ],
      "metadata": {
        "colab": {
          "base_uri": "https://localhost:8080/"
        },
        "id": "v8W8ZYYy4zVM",
        "outputId": "8ff0b718-8d17-4f42-91d5-3d8696b4259f"
      },
      "execution_count": null,
      "outputs": [
        {
          "output_type": "stream",
          "name": "stdout",
          "text": [
            "10 10 10 10 10 10\n"
          ]
        }
      ]
    },
    {
      "cell_type": "code",
      "source": [
        "g=h=i=j=k=50\n",
        "G=H=I=J=K=60\n",
        "print(g,h,i,j,k)\n",
        "print(G,H,I,J,K)\n",
        "print(g+h+i+j+k+G+H+I+J+K)"
      ],
      "metadata": {
        "colab": {
          "base_uri": "https://localhost:8080/"
        },
        "id": "FuCbhM8v6IAb",
        "outputId": "e5aadf91-6043-4249-b2cc-6f986960cf1c"
      },
      "execution_count": null,
      "outputs": [
        {
          "output_type": "stream",
          "name": "stdout",
          "text": [
            "50 50 50 50 50\n",
            "60 60 60 60 60\n",
            "550\n"
          ]
        }
      ]
    },
    {
      "cell_type": "code",
      "source": [
        "l=1\n",
        "#m=2\n",
        "n=3\n",
        "print(l,n)"
      ],
      "metadata": {
        "colab": {
          "base_uri": "https://localhost:8080/"
        },
        "id": "MrS7FGIB7v_o",
        "outputId": "ca293b7f-3d4c-444f-a1e0-30c38a4534ed"
      },
      "execution_count": null,
      "outputs": [
        {
          "output_type": "stream",
          "name": "stdout",
          "text": [
            "1 3\n"
          ]
        }
      ]
    },
    {
      "cell_type": "code",
      "source": [
        "m"
      ],
      "metadata": {
        "colab": {
          "base_uri": "https://localhost:8080/",
          "height": 169
        },
        "id": "YbfapRHN9B-m",
        "outputId": "246499b3-378c-4499-baa4-e9497870532b"
      },
      "execution_count": null,
      "outputs": [
        {
          "output_type": "error",
          "ename": "NameError",
          "evalue": "ignored",
          "traceback": [
            "\u001b[0;31m---------------------------------------------------------------------------\u001b[0m",
            "\u001b[0;31mNameError\u001b[0m                                 Traceback (most recent call last)",
            "\u001b[0;32m<ipython-input-11-9a40b379906c>\u001b[0m in \u001b[0;36m<cell line: 1>\u001b[0;34m()\u001b[0m\n\u001b[0;32m----> 1\u001b[0;31m \u001b[0mm\u001b[0m\u001b[0;34m\u001b[0m\u001b[0;34m\u001b[0m\u001b[0m\n\u001b[0m",
            "\u001b[0;31mNameError\u001b[0m: name 'm' is not defined"
          ]
        }
      ]
    },
    {
      "cell_type": "code",
      "source": [
        "l=1\n",
        "m=2\n",
        "n=3\n",
        "print(l,m,n)\n",
        "#單行註解"
      ],
      "metadata": {
        "colab": {
          "base_uri": "https://localhost:8080/"
        },
        "id": "NmAa-dGm9C_2",
        "outputId": "38eb04b8-a0bf-454b-df35-67a4829f2da6"
      },
      "execution_count": null,
      "outputs": [
        {
          "output_type": "stream",
          "name": "stdout",
          "text": [
            "1 2 3\n"
          ]
        }
      ]
    },
    {
      "cell_type": "code",
      "source": [
        "\"\"\"\n",
        "多行註解\n",
        "多行註解\n",
        "多行註解\n",
        "\"\"\""
      ],
      "metadata": {
        "colab": {
          "base_uri": "https://localhost:8080/",
          "height": 35
        },
        "id": "Znz_g1k29unF",
        "outputId": "272f4a1e-8726-4bd0-fda9-73cef2d08f0f"
      },
      "execution_count": null,
      "outputs": [
        {
          "output_type": "execute_result",
          "data": {
            "text/plain": [
              "'\\n多行註解\\n多行註解\\n多行註解\\n'"
            ],
            "application/vnd.google.colaboratory.intrinsic+json": {
              "type": "string"
            }
          },
          "metadata": {},
          "execution_count": 15
        }
      ]
    },
    {
      "cell_type": "code",
      "source": [
        "str1=\"這是第一個字串\"\n",
        "str2=\"這是第二個字串\""
      ],
      "metadata": {
        "id": "wdqlP3Er-BYj"
      },
      "execution_count": null,
      "outputs": []
    },
    {
      "cell_type": "code",
      "source": [
        "print(str1)\n",
        "print(str2)"
      ],
      "metadata": {
        "colab": {
          "base_uri": "https://localhost:8080/"
        },
        "id": "oQ43hAwq_nvc",
        "outputId": "e4bf5dc8-2f6d-4e98-b6fd-bf5a3410bc00"
      },
      "execution_count": null,
      "outputs": [
        {
          "output_type": "stream",
          "name": "stdout",
          "text": [
            "這是一個字串\n",
            "這是第二個字串\n"
          ]
        }
      ]
    },
    {
      "cell_type": "code",
      "source": [
        "str3=\"瑀哲說:'你好'\"\n",
        "str4='瑀哲說:\"你好\"'\n",
        "print(str3)\n",
        "print(str4)"
      ],
      "metadata": {
        "colab": {
          "base_uri": "https://localhost:8080/"
        },
        "id": "qn2zLMyg_v3w",
        "outputId": "62eaa8ba-a48f-4d17-9d32-8012ab84236a"
      },
      "execution_count": null,
      "outputs": [
        {
          "output_type": "stream",
          "name": "stdout",
          "text": [
            "瑀哲說:'你好'\n",
            "瑀哲說:\"你好\"\n"
          ]
        }
      ]
    },
    {
      "cell_type": "code",
      "source": [
        "print(type(56))\n",
        "print(type(56.0))\n",
        "print(type(\"Hey man,how are you?\"))\n",
        "print(type(True))\n",
        "#\n",
        "print(type(50))\n",
        "print(type(5.0))\n",
        "print(type(\"Hi\"))\n",
        "print(type(False))"
      ],
      "metadata": {
        "colab": {
          "base_uri": "https://localhost:8080/"
        },
        "id": "NvBk4LBBAJCh",
        "outputId": "7f57edd3-0dd4-4737-8575-ba39292d285f"
      },
      "execution_count": null,
      "outputs": [
        {
          "output_type": "stream",
          "name": "stdout",
          "text": [
            "<class 'int'>\n",
            "<class 'float'>\n",
            "<class 'str'>\n",
            "<class 'bool'>\n",
            "<class 'int'>\n",
            "<class 'float'>\n",
            "<class 'str'>\n",
            "<class 'bool'>\n"
          ]
        }
      ]
    },
    {
      "cell_type": "code",
      "source": [
        "num1=1\n",
        "print(num1)\n",
        "print(type(num1))\n",
        "num1=num1+1.1\n",
        "print(num1)\n",
        "print(type(num1))\n",
        "print(int(num1))\n",
        "print(num1)\n",
        "num1=int(num1)\n",
        "print(num1)\n"
      ],
      "metadata": {
        "colab": {
          "base_uri": "https://localhost:8080/"
        },
        "id": "VXqpDjLwZvTk",
        "outputId": "c21fb989-7f83-4976-b0e8-ee36ebcf6564"
      },
      "execution_count": null,
      "outputs": [
        {
          "output_type": "stream",
          "name": "stdout",
          "text": [
            "1\n",
            "<class 'int'>\n",
            "2.1\n",
            "<class 'float'>\n",
            "2\n",
            "2.1\n",
            "2\n"
          ]
        }
      ]
    },
    {
      "cell_type": "code",
      "source": [
        "num2=num1\n",
        "print(float(num2))\n",
        "print(num2)\n",
        "num3=float(num2)\n",
        "print(num3)\n",
        "print(type(num3))\n"
      ],
      "metadata": {
        "colab": {
          "base_uri": "https://localhost:8080/"
        },
        "id": "p4ELXCxKaASe",
        "outputId": "10564525-aa7f-4843-9f89-02c2524be830"
      },
      "execution_count": null,
      "outputs": [
        {
          "output_type": "stream",
          "name": "stdout",
          "text": [
            "2.0\n",
            "2\n",
            "2.0\n",
            "<class 'float'>\n"
          ]
        }
      ]
    },
    {
      "cell_type": "code",
      "source": [
        "num4=str(num3)\n",
        "print(num4)\n",
        "print(type(num4))"
      ],
      "metadata": {
        "colab": {
          "base_uri": "https://localhost:8080/"
        },
        "id": "LVT_Tp-nbJMr",
        "outputId": "4c42383e-95d1-4cd5-acfc-8c1f9ff2daf0"
      },
      "execution_count": null,
      "outputs": [
        {
          "output_type": "stream",
          "name": "stdout",
          "text": [
            "2.0\n",
            "<class 'str'>\n"
          ]
        }
      ]
    },
    {
      "cell_type": "code",
      "source": [
        "a=1\n",
        "b=2\n",
        "c=3\n",
        "print(a,b,c)\n",
        "print(a,[b,c])\n",
        "print([a,b,c])"
      ],
      "metadata": {
        "colab": {
          "base_uri": "https://localhost:8080/"
        },
        "id": "y5WI94dJbUH7",
        "outputId": "a4b7b3fa-4050-4522-f6ce-888101fc996c"
      },
      "execution_count": null,
      "outputs": [
        {
          "output_type": "stream",
          "name": "stdout",
          "text": [
            "1 2 3\n",
            "1 [2, 3]\n",
            "[1, 2, 3]\n"
          ]
        }
      ]
    },
    {
      "cell_type": "code",
      "source": [
        "print(\"hey\",\"hi\",\"hello\")\n",
        "print(\"hey\",\"hi\",\"hello\",sep=\"_\")\n",
        "print(\"hey\",\"hi\",\"hello\",sep=\"\\n\")\n",
        "print(\"hey\",\"hi\",\"hello\",sep=\"\\t\")"
      ],
      "metadata": {
        "colab": {
          "base_uri": "https://localhost:8080/"
        },
        "id": "--imXnqHcy9r",
        "outputId": "e554afa4-04a8-4e4c-e3f2-27bd64de6479"
      },
      "execution_count": null,
      "outputs": [
        {
          "output_type": "stream",
          "name": "stdout",
          "text": [
            "hey hi hello\n",
            "hey_hi_hello\n",
            "hey\n",
            "hi\n",
            "hello\n",
            "hey\thi\thello\n"
          ]
        }
      ]
    },
    {
      "cell_type": "code",
      "source": [
        "print(\"午安\",\"同學好\",\"打起精神來!!!\",sep=\"_\")\n",
        "print(\"下午好\",\"平安順心\",\"健康如意^^\",sep=\",\")"
      ],
      "metadata": {
        "colab": {
          "base_uri": "https://localhost:8080/"
        },
        "id": "pGVMXE_VevbY",
        "outputId": "6cdfb420-f984-4458-bcac-5c940e701466"
      },
      "execution_count": null,
      "outputs": [
        {
          "output_type": "stream",
          "name": "stdout",
          "text": [
            "午安_同學好_打起精神來!!!\n",
            "下午好,平安順心,健康如意^^\n"
          ]
        }
      ]
    },
    {
      "cell_type": "code",
      "source": [
        "print(\"午安\")\n",
        "print(\"同學好\")\n",
        "print(\"打起精神來!!!\")\n",
        "\n",
        "print(\"午安\",\"同學好\",\"打起精神來!!!\",sep=\"\\n\")\n"
      ],
      "metadata": {
        "id": "K6OvBHRafDlX"
      },
      "execution_count": null,
      "outputs": []
    },
    {
      "cell_type": "code",
      "source": [
        "print(123)\n",
        "print(456)\n",
        "\n",
        "print(123,end=\",\")\n",
        "print(456)\n",
        "\n",
        "print(123,end=\"\")\n",
        "print(456)"
      ],
      "metadata": {
        "colab": {
          "base_uri": "https://localhost:8080/"
        },
        "id": "bpHtfspgkhXQ",
        "outputId": "bf40d65c-e6df-4cda-c906-46bfa4962831"
      },
      "execution_count": null,
      "outputs": [
        {
          "output_type": "stream",
          "name": "stdout",
          "text": [
            "123\n",
            "456\n",
            "123,456\n",
            "123456\n"
          ]
        }
      ]
    },
    {
      "cell_type": "code",
      "source": [
        "test1=input()\n",
        "print(test1)\n",
        "print(type(test1))\n",
        "\n",
        "\n",
        "test_int_1=int(input(\"num\"))\n",
        "print(test_int_1+1)"
      ],
      "metadata": {
        "colab": {
          "base_uri": "https://localhost:8080/"
        },
        "id": "glwPlxXbku2P",
        "outputId": "2b5534aa-33f5-4917-ab51-0bd7daab56a7"
      },
      "execution_count": null,
      "outputs": [
        {
          "output_type": "stream",
          "name": "stdout",
          "text": [
            "111\n",
            "111\n",
            "<class 'str'>\n",
            "num111\n",
            "112\n"
          ]
        }
      ]
    },
    {
      "cell_type": "code",
      "source": [
        "test2=input(\"請輸入一段文字\")\n",
        "print(test2)\n"
      ],
      "metadata": {
        "id": "dGk0Rivyk9II"
      },
      "execution_count": null,
      "outputs": []
    },
    {
      "cell_type": "code",
      "source": [
        "test1+1\n",
        "#not int\n"
      ],
      "metadata": {
        "colab": {
          "base_uri": "https://localhost:8080/",
          "height": 169
        },
        "id": "o2oa2qO7lfqS",
        "outputId": "300023e5-5cf9-48ad-81ea-da58d432858d"
      },
      "execution_count": null,
      "outputs": [
        {
          "output_type": "error",
          "ename": "TypeError",
          "evalue": "ignored",
          "traceback": [
            "\u001b[0;31m---------------------------------------------------------------------------\u001b[0m",
            "\u001b[0;31mTypeError\u001b[0m                                 Traceback (most recent call last)",
            "\u001b[0;32m<ipython-input-36-afe2d20a571d>\u001b[0m in \u001b[0;36m<cell line: 1>\u001b[0;34m()\u001b[0m\n\u001b[0;32m----> 1\u001b[0;31m \u001b[0mtest1\u001b[0m\u001b[0;34m+\u001b[0m\u001b[0;36m1\u001b[0m\u001b[0;34m\u001b[0m\u001b[0;34m\u001b[0m\u001b[0m\n\u001b[0m",
            "\u001b[0;31mTypeError\u001b[0m: can only concatenate str (not \"int\") to str"
          ]
        }
      ]
    },
    {
      "cell_type": "code",
      "source": [
        "test5=float(input())\n",
        "print(test5)\n",
        "print(test5+5.1)"
      ],
      "metadata": {
        "colab": {
          "base_uri": "https://localhost:8080/"
        },
        "id": "HBIa58aFlg4f",
        "outputId": "71533daa-876b-4221-af11-a6ddee81a592"
      },
      "execution_count": null,
      "outputs": [
        {
          "output_type": "stream",
          "name": "stdout",
          "text": [
            "5.666\n",
            "5.666\n",
            "10.766\n"
          ]
        }
      ]
    },
    {
      "cell_type": "code",
      "source": [
        "c=int(input(\"請輸入國文成績\"))\n",
        "e=int(input(\"請輸入英文成績\"))\n",
        "m=int(input(\"請輸入數學成績\"))\n",
        "\n",
        "print(f\"你的成績總分是:{c+e+m}\")"
      ],
      "metadata": {
        "colab": {
          "base_uri": "https://localhost:8080/"
        },
        "id": "JAjZt5Vtmk59",
        "outputId": "85e8da99-5990-45d9-f030-0bd8878e8f4d"
      },
      "execution_count": null,
      "outputs": [
        {
          "output_type": "stream",
          "name": "stdout",
          "text": [
            "請輸入國文成績50\n",
            "請輸入英文成績60\n",
            "請輸入數學成績70\n",
            "你的成績總分是:180\n"
          ]
        }
      ]
    },
    {
      "cell_type": "code",
      "source": [
        "12+3\n"
      ],
      "metadata": {
        "colab": {
          "base_uri": "https://localhost:8080/"
        },
        "id": "XINDW08no147",
        "outputId": "08f23b40-ef32-4a9c-8fbb-32eaebbadc4e"
      },
      "execution_count": null,
      "outputs": [
        {
          "output_type": "execute_result",
          "data": {
            "text/plain": [
              "15"
            ]
          },
          "metadata": {},
          "execution_count": 39
        }
      ]
    },
    {
      "cell_type": "code",
      "source": [
        "12-3"
      ],
      "metadata": {
        "colab": {
          "base_uri": "https://localhost:8080/"
        },
        "id": "efZLaBQwqrQ4",
        "outputId": "2c0de82e-2450-4e29-812e-f0af16e97ebe"
      },
      "execution_count": null,
      "outputs": [
        {
          "output_type": "execute_result",
          "data": {
            "text/plain": [
              "9"
            ]
          },
          "metadata": {},
          "execution_count": 40
        }
      ]
    },
    {
      "cell_type": "code",
      "source": [
        "12/5"
      ],
      "metadata": {
        "colab": {
          "base_uri": "https://localhost:8080/"
        },
        "id": "uRcWjZFpqsK3",
        "outputId": "4aa3ef66-3e97-4c07-8924-e654f70ef57c"
      },
      "execution_count": null,
      "outputs": [
        {
          "output_type": "execute_result",
          "data": {
            "text/plain": [
              "2.4"
            ]
          },
          "metadata": {},
          "execution_count": 41
        }
      ]
    },
    {
      "cell_type": "code",
      "source": [
        "12/5.0"
      ],
      "metadata": {
        "colab": {
          "base_uri": "https://localhost:8080/"
        },
        "id": "zKu_3DQsqtiX",
        "outputId": "4e3eed40-b300-4028-9e43-3f062e7b1489"
      },
      "execution_count": null,
      "outputs": [
        {
          "output_type": "execute_result",
          "data": {
            "text/plain": [
              "2.4"
            ]
          },
          "metadata": {},
          "execution_count": 42
        }
      ]
    },
    {
      "cell_type": "code",
      "source": [
        "12%9\n"
      ],
      "metadata": {
        "colab": {
          "base_uri": "https://localhost:8080/"
        },
        "id": "uXGwHGOqqvDo",
        "outputId": "3b2c0ab9-f880-4667-e0dc-eb108ffcde33"
      },
      "execution_count": null,
      "outputs": [
        {
          "output_type": "execute_result",
          "data": {
            "text/plain": [
              "3"
            ]
          },
          "metadata": {},
          "execution_count": 43
        }
      ]
    },
    {
      "cell_type": "code",
      "source": [
        "12*9"
      ],
      "metadata": {
        "colab": {
          "base_uri": "https://localhost:8080/"
        },
        "id": "xQxTpx-3qzyo",
        "outputId": "0fd3af33-888b-4cc2-e892-2d3fed8ebe6d"
      },
      "execution_count": null,
      "outputs": [
        {
          "output_type": "execute_result",
          "data": {
            "text/plain": [
              "108"
            ]
          },
          "metadata": {},
          "execution_count": 44
        }
      ]
    },
    {
      "cell_type": "code",
      "source": [
        "12**2"
      ],
      "metadata": {
        "colab": {
          "base_uri": "https://localhost:8080/"
        },
        "id": "dgA8ON7oq1Z5",
        "outputId": "e5d17e10-eb89-4d04-f0a6-b6f23f30e01b"
      },
      "execution_count": null,
      "outputs": [
        {
          "output_type": "execute_result",
          "data": {
            "text/plain": [
              "144"
            ]
          },
          "metadata": {},
          "execution_count": 45
        }
      ]
    },
    {
      "cell_type": "code",
      "source": [
        "12//2"
      ],
      "metadata": {
        "colab": {
          "base_uri": "https://localhost:8080/"
        },
        "id": "f1XKaYr6r0yW",
        "outputId": "de21bcfb-8956-4a36-8ea8-08168f744d04"
      },
      "execution_count": null,
      "outputs": [
        {
          "output_type": "execute_result",
          "data": {
            "text/plain": [
              "6"
            ]
          },
          "metadata": {},
          "execution_count": 46
        }
      ]
    },
    {
      "cell_type": "code",
      "source": [
        "12//5\n"
      ],
      "metadata": {
        "colab": {
          "base_uri": "https://localhost:8080/"
        },
        "id": "wDAn9Ye0r2Wn",
        "outputId": "f01dc3b4-1900-42a4-e00f-7742acbd2e78"
      },
      "execution_count": null,
      "outputs": [
        {
          "output_type": "execute_result",
          "data": {
            "text/plain": [
              "2"
            ]
          },
          "metadata": {},
          "execution_count": 47
        }
      ]
    },
    {
      "cell_type": "code",
      "source": [
        "a=int(input(\"上底=\"))\n",
        "b=int(input(\"下底\"))\n",
        "c=int(input(\"高\"))\n",
        "print(f\"上底長度為:{a}\",end=\" \")\n",
        "print(f\"下底長度為:{b}\",end=\" \")\n",
        "print(f\"高度為:{c}\",end=\" \")\n",
        "print(f\"梯形面積為:{(a+b)*c/2}\",end=\" \")"
      ],
      "metadata": {
        "colab": {
          "base_uri": "https://localhost:8080/"
        },
        "id": "DPFUWXCvr3y2",
        "outputId": "5e5918a5-8032-4505-ddcd-2a9b5efa4125"
      },
      "execution_count": null,
      "outputs": [
        {
          "output_type": "stream",
          "name": "stdout",
          "text": [
            "上底=3\n",
            "下底4\n",
            "高3\n",
            "上底長度為:3 下底長度為:4 高度為:3 梯形面積為:10.5 "
          ]
        }
      ]
    },
    {
      "cell_type": "code",
      "source": [
        "import math\n",
        "h=int(input(\"請輸入您的身高(cm):\"))\n",
        "w=int(input(\"請輸入您的體重(kg):\"))\n",
        "h1=h/100\n",
        "a=w/(h1*h1)\n",
        "bmi=round(a,2)\n",
        "print(f\"身高{h}公分,體重{w}公斤,BMI值為{bmi}\")"
      ],
      "metadata": {
        "colab": {
          "base_uri": "https://localhost:8080/"
        },
        "id": "UWU-bZiEuAgs",
        "outputId": "366d0917-ffa2-42af-a273-612e22056afb"
      },
      "execution_count": null,
      "outputs": [
        {
          "output_type": "stream",
          "name": "stdout",
          "text": [
            "請輸入您的身高(cm):180\n",
            "請輸入您的體重(kg):80\n",
            "身高180公分,體重80公斤,BMI值為24.69\n"
          ]
        }
      ]
    },
    {
      "cell_type": "code",
      "source": [
        "print(1==1)"
      ],
      "metadata": {
        "colab": {
          "base_uri": "https://localhost:8080/"
        },
        "id": "64C9Fiy91COb",
        "outputId": "65b3f8ec-ba6d-4673-e28e-4fbbcb137978"
      },
      "execution_count": null,
      "outputs": [
        {
          "output_type": "stream",
          "name": "stdout",
          "text": [
            "True\n"
          ]
        }
      ]
    },
    {
      "cell_type": "code",
      "source": [
        "print(1!=1)"
      ],
      "metadata": {
        "colab": {
          "base_uri": "https://localhost:8080/"
        },
        "id": "dBCNbUA02o1a",
        "outputId": "4a8e9b60-211a-4de2-aebc-66a40932bdbf"
      },
      "execution_count": null,
      "outputs": [
        {
          "output_type": "stream",
          "name": "stdout",
          "text": [
            "False\n"
          ]
        }
      ]
    },
    {
      "cell_type": "code",
      "source": [
        "print(1>1)"
      ],
      "metadata": {
        "colab": {
          "base_uri": "https://localhost:8080/"
        },
        "id": "jiBCf4gQ2q-N",
        "outputId": "49408a1b-7414-426b-8cbb-c997e6bb202b"
      },
      "execution_count": null,
      "outputs": [
        {
          "output_type": "stream",
          "name": "stdout",
          "text": [
            "False\n"
          ]
        }
      ]
    },
    {
      "cell_type": "code",
      "source": [
        "print(1>=1)"
      ],
      "metadata": {
        "colab": {
          "base_uri": "https://localhost:8080/"
        },
        "id": "9PsfWJq-23q4",
        "outputId": "14c8d87a-3880-4a9c-e21e-e1c37c37b6c1"
      },
      "execution_count": null,
      "outputs": [
        {
          "output_type": "stream",
          "name": "stdout",
          "text": [
            "True\n"
          ]
        }
      ]
    },
    {
      "cell_type": "code",
      "source": [
        "print(5<=9)"
      ],
      "metadata": {
        "colab": {
          "base_uri": "https://localhost:8080/"
        },
        "id": "mPNmSVt_26Mp",
        "outputId": "22be2645-b589-45b2-df0c-7b38d838255b"
      },
      "execution_count": null,
      "outputs": [
        {
          "output_type": "stream",
          "name": "stdout",
          "text": [
            "True\n"
          ]
        }
      ]
    },
    {
      "cell_type": "code",
      "source": [
        "print(not(5>9))"
      ],
      "metadata": {
        "colab": {
          "base_uri": "https://localhost:8080/"
        },
        "id": "sUBv09EB29bp",
        "outputId": "d2f2c6cc-43f2-4766-9c9f-6349ffd84d7b"
      },
      "execution_count": null,
      "outputs": [
        {
          "output_type": "stream",
          "name": "stdout",
          "text": [
            "True\n"
          ]
        }
      ]
    },
    {
      "cell_type": "code",
      "source": [
        "print(not(9>5))"
      ],
      "metadata": {
        "colab": {
          "base_uri": "https://localhost:8080/"
        },
        "id": "Lck9kinT3p-Z",
        "outputId": "8aeafce7-78e1-4f6e-dec2-02fbd19cbea6"
      },
      "execution_count": null,
      "outputs": [
        {
          "output_type": "stream",
          "name": "stdout",
          "text": [
            "False\n"
          ]
        }
      ]
    },
    {
      "cell_type": "code",
      "source": [
        "print(9>5 and 9<10)"
      ],
      "metadata": {
        "colab": {
          "base_uri": "https://localhost:8080/"
        },
        "id": "BD19gNa33s_o",
        "outputId": "9f45a4b9-6541-40d3-d386-80ed21641194"
      },
      "execution_count": null,
      "outputs": [
        {
          "output_type": "stream",
          "name": "stdout",
          "text": [
            "True\n"
          ]
        }
      ]
    },
    {
      "cell_type": "code",
      "source": [
        "print(9>5 and 9>10)"
      ],
      "metadata": {
        "colab": {
          "base_uri": "https://localhost:8080/"
        },
        "id": "jyQIgpqr3yu4",
        "outputId": "e584af6b-fb8b-4a00-bff7-f9a328f2c7c2"
      },
      "execution_count": null,
      "outputs": [
        {
          "output_type": "stream",
          "name": "stdout",
          "text": [
            "False\n"
          ]
        }
      ]
    },
    {
      "cell_type": "code",
      "source": [
        "print(9>5 or 9>10)"
      ],
      "metadata": {
        "colab": {
          "base_uri": "https://localhost:8080/"
        },
        "id": "ZcUeUAp332bY",
        "outputId": "5a8df302-a534-4988-91f5-da523d02e6a1"
      },
      "execution_count": null,
      "outputs": [
        {
          "output_type": "stream",
          "name": "stdout",
          "text": [
            "True\n"
          ]
        }
      ]
    },
    {
      "cell_type": "code",
      "source": [
        "i=10\n"
      ],
      "metadata": {
        "colab": {
          "base_uri": "https://localhost:8080/"
        },
        "id": "J_Fx_F8t36Ob",
        "outputId": "44617fcc-ab06-42ca-dcc5-31244a5a3d34"
      },
      "execution_count": null,
      "outputs": [
        {
          "output_type": "stream",
          "name": "stdout",
          "text": [
            "20\n"
          ]
        }
      ]
    },
    {
      "cell_type": "code",
      "source": [
        "i+=i\n",
        "\n",
        "print(i)"
      ],
      "metadata": {
        "id": "-iOhACAh656j"
      },
      "execution_count": null,
      "outputs": []
    },
    {
      "cell_type": "code",
      "source": [
        "i-=i\n",
        "print(i)"
      ],
      "metadata": {
        "id": "nQ4kQBqK7Tsk"
      },
      "execution_count": null,
      "outputs": []
    },
    {
      "cell_type": "code",
      "source": [
        "i*=i\n",
        "print(i)"
      ],
      "metadata": {
        "id": "23N6t6h87dcM"
      },
      "execution_count": null,
      "outputs": []
    },
    {
      "cell_type": "code",
      "source": [
        "i/=i\n",
        "print(i)"
      ],
      "metadata": {
        "colab": {
          "base_uri": "https://localhost:8080/"
        },
        "id": "pxgRitzl7kWz",
        "outputId": "c54034ae-83fb-4275-c864-0680197fa784"
      },
      "execution_count": null,
      "outputs": [
        {
          "output_type": "stream",
          "name": "stdout",
          "text": [
            "1.0\n"
          ]
        }
      ]
    },
    {
      "cell_type": "code",
      "source": [
        "i**=i\n",
        "print(i)"
      ],
      "metadata": {
        "colab": {
          "base_uri": "https://localhost:8080/"
        },
        "id": "WgfxFqPZ7l9y",
        "outputId": "89947298-b749-406a-807c-4830822ae0a0"
      },
      "execution_count": null,
      "outputs": [
        {
          "output_type": "stream",
          "name": "stdout",
          "text": [
            "1.0\n"
          ]
        }
      ]
    },
    {
      "cell_type": "code",
      "source": [
        "i//=i\n",
        "print(i)"
      ],
      "metadata": {
        "colab": {
          "base_uri": "https://localhost:8080/"
        },
        "id": "FhlZ78yn7nuV",
        "outputId": "20de922c-6207-4e60-9e59-1e7603ad41d9"
      },
      "execution_count": null,
      "outputs": [
        {
          "output_type": "stream",
          "name": "stdout",
          "text": [
            "1.0\n"
          ]
        }
      ]
    },
    {
      "cell_type": "code",
      "source": [
        "money=int(input(\"請輸入本金存款金額:\"))\n",
        "money=(1.02**6)*money\n",
        "print(f\"6年後的存款為{money}\")"
      ],
      "metadata": {
        "colab": {
          "base_uri": "https://localhost:8080/"
        },
        "id": "kJFZHQh87vr5",
        "outputId": "11698b39-bbf4-42d8-d6bf-d8c30546f05c"
      },
      "execution_count": null,
      "outputs": [
        {
          "output_type": "stream",
          "name": "stdout",
          "text": [
            "請輸入本金存款金額:10000\n",
            "6年後的存款為11261.62419264\n"
          ]
        }
      ]
    },
    {
      "cell_type": "code",
      "source": [
        "a=input(\"請輸入密碼:\")\n",
        "if a==\"1234\":\n",
        "  print(\"歡迎光臨\")"
      ],
      "metadata": {
        "colab": {
          "base_uri": "https://localhost:8080/"
        },
        "id": "l6WIAItK98Zx",
        "outputId": "303f07ed-8d2d-4572-a022-6b241c77588f"
      },
      "execution_count": null,
      "outputs": [
        {
          "output_type": "stream",
          "name": "stdout",
          "text": [
            "請輸入密碼:1234\n",
            "歡迎光臨\n"
          ]
        }
      ]
    },
    {
      "cell_type": "code",
      "source": [
        "yn=input(\"今天會下雨嗎?\")\n",
        "if yn==\"Y\" or yn==\"y\":\n",
        "  print(\"出門記得帶雨傘唷\")\n"
      ],
      "metadata": {
        "colab": {
          "base_uri": "https://localhost:8080/"
        },
        "id": "vj6MRgLGAttO",
        "outputId": "cda25590-5d6d-4484-d729-d40a68761926"
      },
      "execution_count": null,
      "outputs": [
        {
          "output_type": "stream",
          "name": "stdout",
          "text": [
            "今天會下雨嗎?Y\n",
            "記得帶雨傘唷\n"
          ]
        }
      ]
    },
    {
      "cell_type": "code",
      "source": [
        "a=input(\"請輸入密碼:\")\n",
        "if a==\"1234\":\n",
        "  print(\"歡迎光臨\")\n",
        "else:\n",
        "  print(\"密碼錯誤\")"
      ],
      "metadata": {
        "colab": {
          "base_uri": "https://localhost:8080/"
        },
        "id": "YFWnikM3Bc7N",
        "outputId": "9951b936-f7e8-4d44-afef-30f6e69d7f36"
      },
      "execution_count": null,
      "outputs": [
        {
          "output_type": "stream",
          "name": "stdout",
          "text": [
            "請輸入密碼:1\n",
            "密碼錯誤\n"
          ]
        }
      ]
    },
    {
      "cell_type": "code",
      "source": [
        "yn=input(\"今天會下雨嗎?\")\n",
        "if yn==\"Y\" or yn==\"y\":\n",
        "  print(\"出門記得帶雨傘唷\")\n",
        "else:\n",
        "  print(\"今天不用帶傘唷!\")"
      ],
      "metadata": {
        "colab": {
          "base_uri": "https://localhost:8080/"
        },
        "id": "OIBh7G0CBgXM",
        "outputId": "51c83f72-3df6-4486-ab68-523a3ee93144"
      },
      "execution_count": null,
      "outputs": [
        {
          "output_type": "stream",
          "name": "stdout",
          "text": [
            "今天會下雨嗎?2\n",
            "今天不用帶傘唷!\n"
          ]
        }
      ]
    },
    {
      "cell_type": "code",
      "source": [
        "num=int(input(\"請輸入一個數\"))\n",
        "if(num%2==0):\n",
        "  print(f\"{num}為偶數\")\n",
        "else:\n",
        "  print(f\"{num}為奇數\")"
      ],
      "metadata": {
        "colab": {
          "base_uri": "https://localhost:8080/"
        },
        "id": "u-gpEvZAD5aZ",
        "outputId": "99faa21d-d15f-45fc-9021-1380a524fe2c"
      },
      "execution_count": null,
      "outputs": [
        {
          "output_type": "stream",
          "name": "stdout",
          "text": [
            "請輸入一個數10\n",
            "10為偶數\n"
          ]
        }
      ]
    },
    {
      "cell_type": "code",
      "source": [
        "temp=float(input())\n",
        "if temp>=37.5:\n",
        "  print(\"體溫過高\")\n",
        "elif temp>=37 and temp<=37.4:\n",
        "  print(\"體溫稍高\")\n",
        "elif temp>=34 and temp<=36.9:\n",
        "  print(\"體溫正常\")\n",
        "else:\n",
        "  print(\"體溫異常，請重新測量\")"
      ],
      "metadata": {
        "colab": {
          "base_uri": "https://localhost:8080/"
        },
        "id": "wyKezIDlBsp8",
        "outputId": "ecb4372b-6468-47e5-d727-7ae273056e61"
      },
      "execution_count": null,
      "outputs": [
        {
          "output_type": "stream",
          "name": "stdout",
          "text": [
            "88.9\n",
            "體溫過高\n"
          ]
        }
      ]
    },
    {
      "cell_type": "code",
      "source": [
        "s=int(input())\n",
        "if s>=90:\n",
        "  print(\"A\")\n",
        "elif s>=80 and s<=89:\n",
        "  print(\"B\")\n",
        "elif s>=70 and s<=79:\n",
        "  print(\"C\")\n",
        "elif s>=60 and s<=69:\n",
        "  print(\"D\")\n",
        "else:\n",
        "  print(\"E\")"
      ],
      "metadata": {
        "colab": {
          "base_uri": "https://localhost:8080/"
        },
        "id": "XE8b0HQmCxDK",
        "outputId": "90e7228a-4c4c-4a75-c6ef-249a44f15732"
      },
      "execution_count": null,
      "outputs": [
        {
          "output_type": "stream",
          "name": "stdout",
          "text": [
            "90\n",
            "A\n"
          ]
        }
      ]
    },
    {
      "cell_type": "code",
      "source": [
        "month=int(input())\n",
        "if month in [3,4,5]:\n",
        "  print(f\"{month}月是春天\")\n",
        "elif month in [6,7,8]:\n",
        "  print(f\"{month}月是夏天\")\n",
        "elif month in [9,10,11]:\n",
        "  print(f\"{month}月是秋天\")\n",
        "elif month in [1,2,12]:\n",
        "  print(f\"{month}月是冬天\")\n",
        "else:\n",
        "  print(\"月份不再範圍內\")"
      ],
      "metadata": {
        "id": "6DWm6ffdDD2q",
        "colab": {
          "base_uri": "https://localhost:8080/",
          "height": 0
        },
        "outputId": "d3b80503-ad62-4d65-9cf5-a9131a683af8"
      },
      "execution_count": 9,
      "outputs": [
        {
          "output_type": "stream",
          "name": "stdout",
          "text": [
            "9\n",
            "9月是秋天\n"
          ]
        }
      ]
    },
    {
      "cell_type": "code",
      "source": [
        "\n",
        "month = int(input(\"請輸入月份（1-12）：\"))\n",
        "\n",
        "\n",
        "if month in [3, 4, 5]:\n",
        "\n",
        "    print(f\"{month}月是春天！\")\n",
        "elif month in [6, 7, 8]:\n",
        "    print(f\"{month}月是夏天！\")\n",
        "elif month in [9, 10, 11]:\n",
        "    print(f\"{month}月是秋天！\")\n",
        "elif month in [12, 1, 2]:\n",
        "    print(f\"{month}月是冬天！\")\n",
        "else:\n",
        "    print(\"月份不在範圍內！\")\n"
      ],
      "metadata": {
        "colab": {
          "base_uri": "https://localhost:8080/",
          "height": 0
        },
        "id": "ZBDS0Wl-n497",
        "outputId": "926c04c4-0541-4f92-ce05-c5b0d97a3e57"
      },
      "execution_count": 7,
      "outputs": [
        {
          "output_type": "stream",
          "name": "stdout",
          "text": [
            "請輸入月份（1-12）：6\n",
            "6月是夏天！\n"
          ]
        }
      ]
    },
    {
      "cell_type": "code",
      "source": [
        "income = float(input(\"請輸入收入金額：\"))\n",
        "\n",
        "if income >= 2000000:\n",
        "    tax_rate = 0.3\n",
        "elif income >= 1000000:\n",
        "    tax_rate = 0.21\n",
        "elif income >= 600000:\n",
        "    tax_rate = 0.13\n",
        "elif income >= 300000:\n",
        "    tax_rate = 0.06\n",
        "else:\n",
        "    tax_rate = 0\n",
        "\n",
        "tax_amount = tax_rate * income\n",
        "\n",
        "print(f\"稅率：{tax_rate * 100}%\")\n",
        "print(f\"應繳稅金：{tax_amount}\")\n"
      ],
      "metadata": {
        "colab": {
          "base_uri": "https://localhost:8080/",
          "height": 0
        },
        "id": "BeInNxSQt-gk",
        "outputId": "bfa16143-2f7c-4425-e10c-1b34a77512ee"
      },
      "execution_count": 11,
      "outputs": [
        {
          "output_type": "stream",
          "name": "stdout",
          "text": [
            "請輸入收入金額：2000000\n",
            "稅率：30.0%\n",
            "應繳稅金：600000.0\n"
          ]
        }
      ]
    },
    {
      "cell_type": "code",
      "source": [
        "amount = float(input(\"請輸入客戶消費金額：\"))\n",
        "\n",
        "if amount >= 100000:\n",
        "    discount_rate = 0.8\n",
        "elif amount >= 50000:\n",
        "    discount_rate = 0.85\n",
        "elif amount >= 30000:\n",
        "    discount_rate = 0.9\n",
        "elif amount >= 10000:\n",
        "    discount_rate = 0.95\n",
        "else:\n",
        "    discount_rate = 1\n",
        "\n",
        "discounted_price = amount * discount_rate\n",
        "\n",
        "print(f\"打折後價格：{discounted_price}\")\n"
      ],
      "metadata": {
        "id": "4R5idrYDuIMb"
      },
      "execution_count": null,
      "outputs": []
    },
    {
      "cell_type": "code",
      "source": [
        "import random\n",
        "\n",
        "restaurants = []\n",
        "\n",
        "while True:\n",
        "    restaurant = input(\"請輸入餐廳名稱（輸入 '結束' 以停止輸入）：\")\n",
        "    if restaurant == \"結束\":\n",
        "        break\n",
        "    restaurants.append(restaurant)\n",
        "\n",
        "if len(restaurants) == 0:\n",
        "    print(\"沒有輸入餐廳名稱。\")\n",
        "else:\n",
        "    random_choice = random.choice(restaurants)\n",
        "    print(f\"今天的午餐是：{random_choice.strip()}\")\n"
      ],
      "metadata": {
        "colab": {
          "base_uri": "https://localhost:8080/"
        },
        "id": "ed9yD4xOwaS0",
        "outputId": "34de6acf-b689-4c44-c5af-5f0ae4f37d14"
      },
      "execution_count": 13,
      "outputs": [
        {
          "output_type": "stream",
          "name": "stdout",
          "text": [
            "請輸入餐廳名稱（輸入 '結束' 以停止輸入）：milksha\n",
            "請輸入餐廳名稱（輸入 '結束' 以停止輸入）：木\n",
            "請輸入餐廳名稱（輸入 '結束' 以停止輸入）：清\n",
            "請輸入餐廳名稱（輸入 '結束' 以停止輸入）：come\n",
            "請輸入餐廳名稱（輸入 '結束' 以停止輸入）：結束\n",
            "今天的午餐是：come\n"
          ]
        }
      ]
    },
    {
      "cell_type": "code",
      "source": [
        "x=1\n",
        "y=0\n",
        "for i in range(9):\n",
        "  print(\"\")\n",
        "  x=1\n",
        "  y=y+1\n",
        "  for j in  range(9):\n",
        "    print(f\"{y}*{x}={x*y}\",end=\" \")\n",
        "    x=x+1\n"
      ],
      "metadata": {
        "colab": {
          "base_uri": "https://localhost:8080/"
        },
        "id": "LAS5cRNE085U",
        "outputId": "158dd920-bdc0-4604-ad06-df5d86aec8c0"
      },
      "execution_count": 17,
      "outputs": [
        {
          "output_type": "stream",
          "name": "stdout",
          "text": [
            "\n",
            "1*1=1 1*2=2 1*3=3 1*4=4 1*5=5 1*6=6 1*7=7 1*8=8 1*9=9 \n",
            "2*1=2 2*2=4 2*3=6 2*4=8 2*5=10 2*6=12 2*7=14 2*8=16 2*9=18 \n",
            "3*1=3 3*2=6 3*3=9 3*4=12 3*5=15 3*6=18 3*7=21 3*8=24 3*9=27 \n",
            "4*1=4 4*2=8 4*3=12 4*4=16 4*5=20 4*6=24 4*7=28 4*8=32 4*9=36 \n",
            "5*1=5 5*2=10 5*3=15 5*4=20 5*5=25 5*6=30 5*7=35 5*8=40 5*9=45 \n",
            "6*1=6 6*2=12 6*3=18 6*4=24 6*5=30 6*6=36 6*7=42 6*8=48 6*9=54 \n",
            "7*1=7 7*2=14 7*3=21 7*4=28 7*5=35 7*6=42 7*7=49 7*8=56 7*9=63 \n",
            "8*1=8 8*2=16 8*3=24 8*4=32 8*5=40 8*6=48 8*7=56 8*8=64 8*9=72 \n",
            "9*1=9 9*2=18 9*3=27 9*4=36 9*5=45 9*6=54 9*7=63 9*8=72 9*9=81 "
          ]
        }
      ]
    },
    {
      "cell_type": "code",
      "source": [
        "a = int(input(\"請輸入正整數 a：\"))\n",
        "b = int(input(\"請輸入正整數 b：\"))\n",
        "\n",
        "# 計算 a 和 b 的最大公因數\n",
        "def gcd(a, b):\n",
        "    while b != 0:\n",
        "        a, b = b, a % b\n",
        "    return a\n",
        "\n",
        "# 計算 a 和 b 的最小公倍數\n",
        "def lcm(a, b):\n",
        "    return (a * b) // gcd(a, b)\n",
        "\n",
        "# 呼叫 lcm 函數並輸出結果\n",
        "result = lcm(a, b)\n",
        "print(f\"{a} 和 {b} 的最小公倍數為：{result}\")\n"
      ],
      "metadata": {
        "colab": {
          "base_uri": "https://localhost:8080/"
        },
        "id": "SMK4I9I9xyVE",
        "outputId": "8f8a6784-3826-4811-fd79-c2b43ffd6ee2"
      },
      "execution_count": 18,
      "outputs": [
        {
          "output_type": "stream",
          "name": "stdout",
          "text": [
            "請輸入正整數 a：999\n",
            "請輸入正整數 b：9\n",
            "999 和 9 的最小公倍數為：999\n"
          ]
        }
      ]
    },
    {
      "cell_type": "code",
      "source": [
        "n = int(input(\"請輸入正整數 n：\"))\n",
        "\n",
        "# 使用 for 迴圈顯示整數數列，排除 5 的倍數\n",
        "for i in range(1, n+1):\n",
        "    if i % 5 != 0:\n",
        "        print(i, end=\" \")\n"
      ],
      "metadata": {
        "colab": {
          "base_uri": "https://localhost:8080/"
        },
        "id": "7myTeuSF4cmN",
        "outputId": "bfc44b04-ed86-4ccc-e326-536a0b52f9df"
      },
      "execution_count": 19,
      "outputs": [
        {
          "output_type": "stream",
          "name": "stdout",
          "text": [
            "請輸入正整數 n：5\n",
            "1 2 3 4 "
          ]
        }
      ]
    },
    {
      "cell_type": "code",
      "source": [
        "n = int(input(\"請輸入正整數 n：\"))\n",
        "\n",
        "# 初始化乘積為 1\n",
        "product = 1\n",
        "\n",
        "# 使用 while 迴圈計算乘積\n",
        "i = 1\n",
        "while i <= n:\n",
        "    product *= i\n",
        "    i += 1\n",
        "\n",
        "print(f\"1 * 2 * 3 * ... * {n} = {product}\")\n"
      ],
      "metadata": {
        "colab": {
          "base_uri": "https://localhost:8080/"
        },
        "id": "Qw505EP-7A4O",
        "outputId": "4ec19b19-4b9a-461c-85ca-6f2af28480ea"
      },
      "execution_count": 20,
      "outputs": [
        {
          "output_type": "stream",
          "name": "stdout",
          "text": [
            "請輸入正整數 n：5\n",
            "1 * 2 * 3 * ... * 5 = 120\n"
          ]
        }
      ]
    },
    {
      "cell_type": "code",
      "source": [
        "odd_sum = 0\n",
        "even_sum = 0\n",
        "\n",
        "for num in range(51):\n",
        "    if num % 2 == 0:\n",
        "        even_sum += num\n",
        "    else:\n",
        "        odd_sum += num\n",
        "\n",
        "print(\"奇數和:\", odd_sum)\n",
        "print(\"偶數和:\", even_sum)\n"
      ],
      "metadata": {
        "colab": {
          "base_uri": "https://localhost:8080/"
        },
        "id": "wsMq6qL77DLO",
        "outputId": "46744e99-8d0b-40dc-dc55-07ad9cb1184d"
      },
      "execution_count": 21,
      "outputs": [
        {
          "output_type": "stream",
          "name": "stdout",
          "text": [
            "奇數和: 625\n",
            "偶數和: 650\n"
          ]
        }
      ]
    },
    {
      "cell_type": "code",
      "source": [
        "n = int(input(\"請輸入正整數 n：\"))\n",
        "\n",
        "for i in range(n, 0, -1):\n",
        "    for j in range(i):\n",
        "        print(\"*\", end=\" \")\n",
        "    print()\n"
      ],
      "metadata": {
        "colab": {
          "base_uri": "https://localhost:8080/"
        },
        "id": "b_VXRR4G8P9n",
        "outputId": "3f494e24-0b09-49f0-aa07-5d43599141dd"
      },
      "execution_count": 23,
      "outputs": [
        {
          "output_type": "stream",
          "name": "stdout",
          "text": [
            "請輸入正整數 n：5\n",
            "* * * * * \n",
            "* * * * \n",
            "* * * \n",
            "* * \n",
            "* \n"
          ]
        }
      ]
    },
    {
      "cell_type": "code",
      "source": [
        "total_sum = 0\n",
        "\n",
        "for num in range(1, 101):\n",
        "    if num % 3 == 0 or num % 7 == 0:\n",
        "        total_sum += num\n",
        "\n",
        "print(\"總和:\", total_sum)\n"
      ],
      "metadata": {
        "colab": {
          "base_uri": "https://localhost:8080/"
        },
        "id": "HStZnfZN8QcQ",
        "outputId": "f66093b9-baf1-4557-f5b7-df5fddbb638b"
      },
      "execution_count": 24,
      "outputs": [
        {
          "output_type": "stream",
          "name": "stdout",
          "text": [
            "總和: 2208\n"
          ]
        }
      ]
    },
    {
      "cell_type": "code",
      "source": [
        "num = int(input(\"請輸入一個正整數：\"))\n",
        "\n",
        "factors = []\n",
        "is_prime = True\n",
        "\n",
        "for i in range(1, num + 1):\n",
        "    if num % i == 0:\n",
        "        factors.append(i)\n",
        "\n",
        "if len(factors) > 2:\n",
        "    is_prime = False\n",
        "\n",
        "print(\"因數:\", factors)\n",
        "\n",
        "if is_prime:\n",
        "    print(num, \"是質數\")\n",
        "else:\n",
        "    print(num, \"不是質數\")\n"
      ],
      "metadata": {
        "colab": {
          "base_uri": "https://localhost:8080/"
        },
        "id": "6lPd48lx8cOz",
        "outputId": "c886fcd7-2d52-4139-965c-4337d296142e"
      },
      "execution_count": 25,
      "outputs": [
        {
          "output_type": "stream",
          "name": "stdout",
          "text": [
            "請輸入一個正整數：55\n",
            "因數: [1, 5, 11, 55]\n",
            "55 不是質數\n"
          ]
        }
      ]
    },
    {
      "cell_type": "code",
      "source": [
        "list1 = [\"apple\",\"banana\",\"orange\"]\n",
        "print(list1[1])\n",
        "print(list1[2])\n",
        "print(list1[0])\n",
        "print(list1[-1])\n",
        "print(list1[-3])"
      ],
      "metadata": {
        "colab": {
          "base_uri": "https://localhost:8080/"
        },
        "id": "WaLI2Kwn8mJS",
        "outputId": "875e348c-9815-4e2a-9e4c-d962b8d042f0"
      },
      "execution_count": 29,
      "outputs": [
        {
          "output_type": "stream",
          "name": "stdout",
          "text": [
            "banana\n",
            "orange\n",
            "apple\n",
            "orange\n",
            "apple\n"
          ]
        }
      ]
    },
    {
      "cell_type": "code",
      "source": [
        "list5=[\"國文成績:85分\",\"數學成績:79分\",\"英文成績:93分\"]\n",
        "for i in range(0,3):\n",
        "  print(list5[i])"
      ],
      "metadata": {
        "colab": {
          "base_uri": "https://localhost:8080/"
        },
        "id": "Uj-eZ3w0BJ51",
        "outputId": "71f50d3d-9cc1-4e9b-a56d-f08ebd3206db"
      },
      "execution_count": 32,
      "outputs": [
        {
          "output_type": "stream",
          "name": "stdout",
          "text": [
            "國文成績:85分\n",
            "數學成績:79分\n",
            "英文成績:93分\n"
          ]
        }
      ]
    },
    {
      "cell_type": "code",
      "source": [
        "list1 = [\"apple\",\"banana\",\"orange\"]\n",
        "for s in list1:\n",
        "  print(s,end=\",\")"
      ],
      "metadata": {
        "colab": {
          "base_uri": "https://localhost:8080/"
        },
        "id": "mSt5aJ1EB5-p",
        "outputId": "0674f443-1da3-43d8-adc5-71b5f3b4a763"
      },
      "execution_count": 33,
      "outputs": [
        {
          "output_type": "stream",
          "name": "stdout",
          "text": [
            "apple,banana,orange,"
          ]
        }
      ]
    },
    {
      "cell_type": "code",
      "source": [
        "list2 = [123,\"banana\",True]\n",
        "for s in list2:\n",
        "  print(s,end=\",\")"
      ],
      "metadata": {
        "colab": {
          "base_uri": "https://localhost:8080/"
        },
        "id": "yMvI6SppD8Jq",
        "outputId": "d7c0d377-6cd2-4b97-bc07-7af339a35d0c"
      },
      "execution_count": 35,
      "outputs": [
        {
          "output_type": "stream",
          "name": "stdout",
          "text": [
            "123,banana,True,"
          ]
        }
      ]
    },
    {
      "cell_type": "code",
      "source": [
        "scores=[85,79,93]\n",
        "for i in range(len(scores)):\n",
        "  print(scores[i])"
      ],
      "metadata": {
        "colab": {
          "base_uri": "https://localhost:8080/"
        },
        "id": "G0c6P12-EDhj",
        "outputId": "d15bbbea-dab8-4fd4-b3bb-ab4f57ee2e6a"
      },
      "execution_count": 36,
      "outputs": [
        {
          "output_type": "stream",
          "name": "stdout",
          "text": [
            "85\n",
            "79\n",
            "93\n"
          ]
        }
      ]
    },
    {
      "cell_type": "code",
      "source": [
        "scores=[\"Tom\",\"Mary\",\"Tony\"]\n",
        "for i in range(len(scores)):\n",
        "  print(f\"編號{i} 姓名:{scores[i]}\")"
      ],
      "metadata": {
        "colab": {
          "base_uri": "https://localhost:8080/"
        },
        "id": "VlWKrUoSEV33",
        "outputId": "e810670c-526d-4709-c544-9ae7816a5ce7"
      },
      "execution_count": 37,
      "outputs": [
        {
          "output_type": "stream",
          "name": "stdout",
          "text": [
            "編號0 姓名:Tom\n",
            "編號1 姓名:Mary\n",
            "編號2 姓名:Tony\n"
          ]
        }
      ]
    },
    {
      "cell_type": "markdown",
      "source": [],
      "metadata": {
        "id": "MFTIhyMEFBKw"
      }
    },
    {
      "cell_type": "code",
      "source": [],
      "metadata": {
        "id": "DR_8g4jkFAip"
      },
      "execution_count": null,
      "outputs": []
    }
  ]
}